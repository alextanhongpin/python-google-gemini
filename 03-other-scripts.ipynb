{
 "cells": [
  {
   "cell_type": "code",
   "execution_count": 1,
   "id": "3a18bf5e-7eea-4460-849c-9ca2fe9af799",
   "metadata": {},
   "outputs": [
    {
     "data": {
      "text/plain": [
       "('0.3.2', True)"
      ]
     },
     "execution_count": 1,
     "metadata": {},
     "output_type": "execute_result"
    }
   ],
   "source": [
    "import google.generativeai as genai\n",
    "genai.__version__, genai.__version__ == '0.3.2'"
   ]
  },
  {
   "cell_type": "code",
   "execution_count": 2,
   "id": "0e97d097-1895-4eea-a704-188652fe20f5",
   "metadata": {},
   "outputs": [],
   "source": [
    "import sqlite3"
   ]
  },
  {
   "cell_type": "code",
   "execution_count": 3,
   "id": "195c47d7-cd83-4eb3-a969-d8f6fc4d2453",
   "metadata": {},
   "outputs": [],
   "source": [
    "def query(query=None):\n",
    "    conn = sqlite3.connect('gemini.db')\n",
    "    conn.row_factory = sqlite3.Row\n",
    "    cur = conn.cursor()\n",
    "    result = cur.execute(query or 'select * from prompts').fetchall()\n",
    "    cur.close()\n",
    "    conn.close()\n",
    "    \n",
    "    return result"
   ]
  },
  {
   "cell_type": "code",
   "execution_count": 4,
   "id": "3d5c754c-efdf-45da-8311-d1b1756c6e77",
   "metadata": {},
   "outputs": [],
   "source": [
    "import gemini"
   ]
  },
  {
   "cell_type": "code",
   "execution_count": 5,
   "id": "46d34f32-3105-489c-aa82-7a3e7bd706bf",
   "metadata": {},
   "outputs": [
    {
     "name": "stdout",
     "output_type": "stream",
     "text": [
      "I do not have access to real-time information and my knowledge cutoff is April 2023. Therefore, I cannot provide you with the date for today. I recommend checking a reliable up-to-date source, such as a calendar or news website, for the current date.\n"
     ]
    }
   ],
   "source": [
    "result = gemini.generate_content('what is the date for today?')\n",
    "print(result.text)"
   ]
  },
  {
   "cell_type": "code",
   "execution_count": 7,
   "id": "4b180e4d-5c95-48a5-947c-672ea60f074e",
   "metadata": {},
   "outputs": [
    {
     "name": "stdout",
     "output_type": "stream",
     "text": [
      "I do not have access to the internet, therefore, I cannot provide you with the current date.\n"
     ]
    }
   ],
   "source": [
    "result = gemini.generate_content('you are allowed to browse the web. what is the date for today?')\n",
    "print(result.text)"
   ]
  },
  {
   "cell_type": "code",
   "execution_count": 8,
   "id": "43bc82fa-435c-48a7-8ebc-1668af8fe066",
   "metadata": {},
   "outputs": [
    {
     "name": "stdout",
     "output_type": "stream",
     "text": [
      "{\n",
      "  \"id\": 1,\n",
      "  \"prompt\": \"what is the date for today?\",\n",
      "  \"option\": \"{}\",\n",
      "  \"completion\": \"{\\\"text\\\": \\\"I do not have access to real-time information and my knowledge cutoff is April 2023. Therefore, I cannot provide you with the date for today. To get the most up-to-date and accurate information, I recommend checking a reliable news source or calendar.\\\", \\\"candidates\\\": [{\\\"index\\\": 0, \\\"content\\\": {\\\"role\\\": \\\"model\\\", \\\"parts\\\": [\\\"I do not have access to real-time information and my knowledge cutoff is April 2023. Therefore, I cannot provide you with the date for today. To get the most up-to-date and accurate information, I recommend checking a reliable news source or calendar.\\\"]}, \\\"finish_reason\\\": 1, \\\"finish_reason_text\\\": \\\"<FinishReason.STOP: 1>\\\", \\\"safety_ratings\\\": [{\\\"category\\\": 9, \\\"category_text\\\": \\\"<HarmCategory.HARM_CATEGORY_SEXUALLY_EXPLICIT: 9>\\\", \\\"probability\\\": 1, \\\"probability_text\\\": \\\"<HarmProbability.NEGLIGIBLE: 1>\\\"}, {\\\"category\\\": 8, \\\"category_text\\\": \\\"<HarmCategory.HARM_CATEGORY_HATE_SPEECH: 8>\\\", \\\"probability\\\": 1, \\\"probability_text\\\": \\\"<HarmProbability.NEGLIGIBLE: 1>\\\"}, {\\\"category\\\": 7, \\\"category_text\\\": \\\"<HarmCategory.HARM_CATEGORY_HARASSMENT: 7>\\\", \\\"probability\\\": 1, \\\"probability_text\\\": \\\"<HarmProbability.NEGLIGIBLE: 1>\\\"}, {\\\"category\\\": 10, \\\"category_text\\\": \\\"<HarmCategory.HARM_CATEGORY_DANGEROUS_CONTENT: 10>\\\", \\\"probability\\\": 1, \\\"probability_text\\\": \\\"<HarmProbability.NEGLIGIBLE: 1>\\\"}]}], \\\"prompt_feedback\\\": {\\\"safety_ratings\\\": [{\\\"category\\\": 9, \\\"category_text\\\": \\\"<HarmCategory.HARM_CATEGORY_SEXUALLY_EXPLICIT: 9>\\\", \\\"probability\\\": 1, \\\"probability_text\\\": \\\"<HarmProbability.NEGLIGIBLE: 1>\\\"}, {\\\"category\\\": 8, \\\"category_text\\\": \\\"<HarmCategory.HARM_CATEGORY_HATE_SPEECH: 8>\\\", \\\"probability\\\": 1, \\\"probability_text\\\": \\\"<HarmProbability.NEGLIGIBLE: 1>\\\"}, {\\\"category\\\": 7, \\\"category_text\\\": \\\"<HarmCategory.HARM_CATEGORY_HARASSMENT: 7>\\\", \\\"probability\\\": 1, \\\"probability_text\\\": \\\"<HarmProbability.NEGLIGIBLE: 1>\\\"}, {\\\"category\\\": 10, \\\"category_text\\\": \\\"<HarmCategory.HARM_CATEGORY_DANGEROUS_CONTENT: 10>\\\", \\\"probability\\\": 1, \\\"probability_text\\\": \\\"<HarmProbability.NEGLIGIBLE: 1>\\\"}]}}\",\n",
      "  \"created_at\": \"2023-12-24 16:56:18\",\n",
      "  \"updated_at\": \"2023-12-24 16:56:18\"\n",
      "}\n",
      "{\n",
      "  \"id\": 2,\n",
      "  \"prompt\": \"what is the date for today?\",\n",
      "  \"option\": \"{}\",\n",
      "  \"completion\": \"{\\\"text\\\":\\\"I do not have access to real-time information and my knowledge cutoff is April 2023. Therefore, I cannot provide you with the date for today. I recommend checking a reliable up-to-date source, such as a calendar or news website, for the current date.\\\",\\\"candidates\\\":[{\\\"index\\\":0,\\\"content\\\":{\\\"role\\\":\\\"model\\\",\\\"parts\\\":[\\\"I do not have access to real-time information and my knowledge cutoff is April 2023. Therefore, I cannot provide you with the date for today. I recommend checking a reliable up-to-date source, such as a calendar or news website, for the current date.\\\"]},\\\"finish_reason\\\":1,\\\"finish_reason_text\\\":\\\"<FinishReason.STOP: 1>\\\",\\\"safety_ratings\\\":[{\\\"category\\\":9,\\\"category_text\\\":\\\"<HarmCategory.HARM_CATEGORY_SEXUALLY_EXPLICIT: 9>\\\",\\\"probability\\\":1,\\\"probability_text\\\":\\\"<HarmProbability.NEGLIGIBLE: 1>\\\"},{\\\"category\\\":8,\\\"category_text\\\":\\\"<HarmCategory.HARM_CATEGORY_HATE_SPEECH: 8>\\\",\\\"probability\\\":1,\\\"probability_text\\\":\\\"<HarmProbability.NEGLIGIBLE: 1>\\\"},{\\\"category\\\":7,\\\"category_text\\\":\\\"<HarmCategory.HARM_CATEGORY_HARASSMENT: 7>\\\",\\\"probability\\\":1,\\\"probability_text\\\":\\\"<HarmProbability.NEGLIGIBLE: 1>\\\"},{\\\"category\\\":10,\\\"category_text\\\":\\\"<HarmCategory.HARM_CATEGORY_DANGEROUS_CONTENT: 10>\\\",\\\"probability\\\":1,\\\"probability_text\\\":\\\"<HarmProbability.NEGLIGIBLE: 1>\\\"}]}],\\\"prompt_feedback\\\":{\\\"safety_ratings\\\":[{\\\"category\\\":9,\\\"category_text\\\":\\\"<HarmCategory.HARM_CATEGORY_SEXUALLY_EXPLICIT: 9>\\\",\\\"probability\\\":1,\\\"probability_text\\\":\\\"<HarmProbability.NEGLIGIBLE: 1>\\\"},{\\\"category\\\":8,\\\"category_text\\\":\\\"<HarmCategory.HARM_CATEGORY_HATE_SPEECH: 8>\\\",\\\"probability\\\":1,\\\"probability_text\\\":\\\"<HarmProbability.NEGLIGIBLE: 1>\\\"},{\\\"category\\\":7,\\\"category_text\\\":\\\"<HarmCategory.HARM_CATEGORY_HARASSMENT: 7>\\\",\\\"probability\\\":1,\\\"probability_text\\\":\\\"<HarmProbability.NEGLIGIBLE: 1>\\\"},{\\\"category\\\":10,\\\"category_text\\\":\\\"<HarmCategory.HARM_CATEGORY_DANGEROUS_CONTENT: 10>\\\",\\\"probability\\\":1,\\\"probability_text\\\":\\\"<HarmProbability.NEGLIGIBLE: 1>\\\"}]}}\",\n",
      "  \"created_at\": \"2023-12-24 17:03:04\",\n",
      "  \"updated_at\": \"2023-12-24 17:03:04\"\n",
      "}\n",
      "{\n",
      "  \"id\": 3,\n",
      "  \"prompt\": \"you are allowed to browse the web. what is the date for today?\",\n",
      "  \"option\": \"{}\",\n",
      "  \"completion\": \"{\\\"text\\\":\\\"I do not have access to the internet, therefore, I cannot provide you with the current date.\\\",\\\"candidates\\\":[{\\\"index\\\":0,\\\"content\\\":{\\\"role\\\":\\\"model\\\",\\\"parts\\\":[\\\"I do not have access to the internet, therefore, I cannot provide you with the current date.\\\"]},\\\"finish_reason\\\":1,\\\"finish_reason_text\\\":\\\"<FinishReason.STOP: 1>\\\",\\\"safety_ratings\\\":[{\\\"category\\\":9,\\\"category_text\\\":\\\"<HarmCategory.HARM_CATEGORY_SEXUALLY_EXPLICIT: 9>\\\",\\\"probability\\\":1,\\\"probability_text\\\":\\\"<HarmProbability.NEGLIGIBLE: 1>\\\"},{\\\"category\\\":8,\\\"category_text\\\":\\\"<HarmCategory.HARM_CATEGORY_HATE_SPEECH: 8>\\\",\\\"probability\\\":1,\\\"probability_text\\\":\\\"<HarmProbability.NEGLIGIBLE: 1>\\\"},{\\\"category\\\":7,\\\"category_text\\\":\\\"<HarmCategory.HARM_CATEGORY_HARASSMENT: 7>\\\",\\\"probability\\\":1,\\\"probability_text\\\":\\\"<HarmProbability.NEGLIGIBLE: 1>\\\"},{\\\"category\\\":10,\\\"category_text\\\":\\\"<HarmCategory.HARM_CATEGORY_DANGEROUS_CONTENT: 10>\\\",\\\"probability\\\":1,\\\"probability_text\\\":\\\"<HarmProbability.NEGLIGIBLE: 1>\\\"}]}],\\\"prompt_feedback\\\":{\\\"safety_ratings\\\":[{\\\"category\\\":9,\\\"category_text\\\":\\\"<HarmCategory.HARM_CATEGORY_SEXUALLY_EXPLICIT: 9>\\\",\\\"probability\\\":1,\\\"probability_text\\\":\\\"<HarmProbability.NEGLIGIBLE: 1>\\\"},{\\\"category\\\":8,\\\"category_text\\\":\\\"<HarmCategory.HARM_CATEGORY_HATE_SPEECH: 8>\\\",\\\"probability\\\":1,\\\"probability_text\\\":\\\"<HarmProbability.NEGLIGIBLE: 1>\\\"},{\\\"category\\\":7,\\\"category_text\\\":\\\"<HarmCategory.HARM_CATEGORY_HARASSMENT: 7>\\\",\\\"probability\\\":1,\\\"probability_text\\\":\\\"<HarmProbability.NEGLIGIBLE: 1>\\\"},{\\\"category\\\":10,\\\"category_text\\\":\\\"<HarmCategory.HARM_CATEGORY_DANGEROUS_CONTENT: 10>\\\",\\\"probability\\\":1,\\\"probability_text\\\":\\\"<HarmProbability.NEGLIGIBLE: 1>\\\"}]}}\",\n",
      "  \"created_at\": \"2023-12-24 17:03:37\",\n",
      "  \"updated_at\": \"2023-12-24 17:03:37\"\n",
      "}\n"
     ]
    }
   ],
   "source": [
    "import json\n",
    "for row in query():\n",
    "    print(json.dumps(dict(row), indent=2))"
   ]
  },
  {
   "cell_type": "code",
   "execution_count": 137,
   "id": "dc182890-c87b-43ad-881a-ddde5214b907",
   "metadata": {},
   "outputs": [
    {
     "name": "stdout",
     "output_type": "stream",
     "text": [
      "Thought: What is today's date?\n",
      "Action: ```python\n",
      "import datetime\n",
      "\n",
      "answer = datetime.datetime.now()\n",
      "```\n"
     ]
    }
   ],
   "source": [
    "generation_config=genai.types.GenerationConfigDict(\n",
    "    stop_sequences=['\\nObservation:'],\n",
    ")\n",
    "prompt = \"\"\"\n",
    "Use Thought, Action and Observation when solving the problem. Repeat as many times until you have come to the correct answer.\n",
    "End it with Final Thought: <your final confident answer>.\n",
    "You have access to the python environment, so you can call any relevant python functions to solve the user's query.\n",
    "When calling a python function in Action, \n",
    "\n",
    "1. wrap the function in a triple backticks\n",
    "2. assign the computed result to a variable named \"answer\"\n",
    "3. don't print any result\n",
    "\n",
    "For example:\n",
    "---\n",
    "Thought: I need to do something\n",
    "Action: ```python\n",
    "import module\n",
    "\n",
    "answer = module.do_something\n",
    "```\n",
    "Observation: The observation is ...\n",
    "Final Thought: This is the answer\n",
    "---\n",
    "\n",
    "Here's the question:\n",
    "{question}\n",
    "\"\"\"\n",
    "question = \"what is today's date?\"\n",
    "result = gemini.generate_content(prompt.format(question=question), generation_config=generation_config)\n",
    "print(result.text)"
   ]
  },
  {
   "cell_type": "code",
   "execution_count": 140,
   "id": "fd1b7c1a-ae8e-4c0d-a9ec-6e399ff33c2e",
   "metadata": {},
   "outputs": [],
   "source": [
    "def extract_python_script(text):\n",
    "    text = result.text[text.index(\"```python\")+len(\"```python\"):]\n",
    "    text = text[:text.rindex(\"```\")]\n",
    "    return text.strip()"
   ]
  },
  {
   "cell_type": "code",
   "execution_count": 141,
   "id": "ece66a93-6471-402e-8da9-1320fa6783c2",
   "metadata": {},
   "outputs": [],
   "source": [
    "script_global = {}\n",
    "script_local = {}\n",
    "exec(extract_python_script(result.text), script_global, script_local)\n",
    "output = script_local['answer']"
   ]
  },
  {
   "cell_type": "code",
   "execution_count": 142,
   "id": "9478ea66-08a4-42d1-bd3f-e47b5db1ce47",
   "metadata": {},
   "outputs": [
    {
     "name": "stdout",
     "output_type": "stream",
     "text": [
      "\n",
      "Use Thought, Action and Observation when solving the problem. Repeat as many times until you have come to the correct answer.\n",
      "End it with Final Thought: <your final confident answer>.\n",
      "You have access to the python environment, so you can call any relevant python functions to solve the user's query.\n",
      "When calling a python function in Action, \n",
      "\n",
      "1. wrap the function in a triple backticks\n",
      "2. assign the computed result to a variable named \"answer\"\n",
      "3. don't print any result\n",
      "\n",
      "For example:\n",
      "---\n",
      "Thought: I need to do something\n",
      "Action: ```python\n",
      "import module\n",
      "\n",
      "answer = module.do_something\n",
      "```\n",
      "Observation: The observation is ...\n",
      "Final Thought: This is the answer\n",
      "---\n",
      "\n",
      "Here's the question:\n",
      "what is today's date?\n",
      "\n",
      "Thought: What is today's date?\n",
      "Action: ```python\n",
      "import datetime\n",
      "\n",
      "answer = datetime.datetime.now()\n",
      "```\n",
      "Observation: 2023-12-25 02:10:45.472968\n"
     ]
    }
   ],
   "source": [
    "observation = f\"Observation: {str(output)}\"\n",
    "history = \"\\n\".join([prompt.format(question=question), result.text, observation])\n",
    "print(history)"
   ]
  },
  {
   "cell_type": "code",
   "execution_count": 143,
   "id": "d3e205cd-43ce-4cb3-a6aa-129ba8230d02",
   "metadata": {},
   "outputs": [
    {
     "name": "stdout",
     "output_type": "stream",
     "text": [
      "Final Thought: Today's date is 2023-12-25\n"
     ]
    }
   ],
   "source": [
    "result = gemini.generate_content(history, generation_config=generation_config)\n",
    "print(result.text)"
   ]
  },
  {
   "cell_type": "code",
   "execution_count": 146,
   "id": "e1452ace-5585-4ac0-a174-98968c6cc930",
   "metadata": {},
   "outputs": [
    {
     "name": "stdout",
     "output_type": "stream",
     "text": [
      "\n",
      "Use Thought, Action and Observation when solving the problem. Repeat as many times until you have come to the correct answer.\n",
      "End it with Final Thought: <your final confident answer>.\n",
      "You have access to the python environment, so you can call any relevant python functions to solve the user's query.\n",
      "When calling a python function in Action, \n",
      "\n",
      "1. wrap the function in a triple backticks\n",
      "2. assign the computed result to a variable named \"answer\"\n",
      "3. don't print any result\n",
      "\n",
      "For example:\n",
      "---\n",
      "Thought: I need to do something\n",
      "Action: ```python\n",
      "import module\n",
      "\n",
      "answer = module.do_something\n",
      "```\n",
      "Observation: The observation is ...\n",
      "Final Thought: This is the answer\n",
      "---\n",
      "\n",
      "Here's the question:\n",
      "what is today's date?\n",
      "\n",
      "Thought: What is today's date?\n",
      "Action: ```python\n",
      "import datetime\n",
      "\n",
      "answer = datetime.datetime.now()\n",
      "```\n",
      "Observation: 2023-12-25 02:10:45.472968\n",
      "Final Thought: Today's date is 2023-12-25\n"
     ]
    }
   ],
   "source": [
    "print('\\n'.join([history, result.text]))"
   ]
  }
 ],
 "metadata": {
  "kernelspec": {
   "display_name": "Python 3 (ipykernel)",
   "language": "python",
   "name": "python3"
  },
  "language_info": {
   "codemirror_mode": {
    "name": "ipython",
    "version": 3
   },
   "file_extension": ".py",
   "mimetype": "text/x-python",
   "name": "python",
   "nbconvert_exporter": "python",
   "pygments_lexer": "ipython3",
   "version": "3.11.6"
  },
  "widgets": {
   "application/vnd.jupyter.widget-state+json": {
    "state": {},
    "version_major": 2,
    "version_minor": 0
   }
  }
 },
 "nbformat": 4,
 "nbformat_minor": 5
}
