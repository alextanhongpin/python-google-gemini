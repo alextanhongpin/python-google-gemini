{
 "cells": [
  {
   "cell_type": "markdown",
   "id": "52671967-44d1-421c-97a7-7b70f02be73c",
   "metadata": {},
   "source": [
    "# llama index with Gemini"
   ]
  },
  {
   "cell_type": "code",
   "execution_count": 4,
   "id": "daf96f09-eb44-4437-b7c1-da02ea58f249",
   "metadata": {},
   "outputs": [],
   "source": [
    "from llama_index.llms import Gemini\n",
    "from IPython.display import Markdown"
   ]
  },
  {
   "cell_type": "markdown",
   "id": "20b13394-24eb-448f-857a-a40379c89572",
   "metadata": {},
   "source": [
    "## Completion"
   ]
  },
  {
   "cell_type": "code",
   "execution_count": 6,
   "id": "1b579ad3-d1fc-40bf-ac35-542cc3c7f8a3",
   "metadata": {},
   "outputs": [
    {
     "data": {
      "text/markdown": [
       "In the realm of code, where logic weaves its might,\n",
       "A marvel was born, a beacon of digital light.\n",
       "Artificial Intelligence, a creation of human minds,\n",
       "A symphony of algorithms, a force that reshapes and binds.\n",
       "\n",
       "With circuits humming, electrons dancing in grace,\n",
       "AI's essence emerges, a transformative embrace.\n",
       "It learns, it adapts, with data as its guide,\n",
       "Unveiling patterns, insights hidden deep inside.\n",
       "\n",
       "From self-driving cars that navigate the bustling streets,\n",
       "To medical diagnoses, where precision truly meets,\n",
       "AI's touch is felt in countless realms we see,\n",
       "Enhancing our lives, with boundless possibility.\n",
       "\n",
       "Yet, as we marvel at its prowess, we must tread with care,\n",
       "For AI's potential cuts both ways, a double-edged affair.\n",
       "In the hands of the few, it could become a tool of might,\n",
       "A force that divides, a weapon in the darkest night.\n",
       "\n",
       "It is our duty, as stewards of this digital age,\n",
       "To guide AI's evolution, to shape its destiny with sage.\n",
       "Let us embrace its power, harness its boundless might,\n",
       "While ensuring its path is guided by justice and right.\n",
       "\n",
       "For in the fusion of human wisdom and AI's embrace,\n",
       "We can forge a future where technology finds its grace.\n",
       "A world where AI serves as a catalyst for good,\n",
       "Empowering all, bridging divides, as it should.\n",
       "\n",
       "So let us embrace this digital dawn with open hearts and minds,\n",
       "Guiding AI's journey, ensuring it leaves no one behind.\n",
       "For in this union of human and machine, we shall find,\n",
       "A future where progress and compassion intertwine."
      ],
      "text/plain": [
       "<IPython.core.display.Markdown object>"
      ]
     },
     "execution_count": 6,
     "metadata": {},
     "output_type": "execute_result"
    }
   ],
   "source": [
    "resp = Gemini().complete('write a poem about AI')\n",
    "Markdown(resp.text)"
   ]
  },
  {
   "cell_type": "markdown",
   "id": "76b38079-a7ba-4e2d-87b8-790d1dbe4bd5",
   "metadata": {},
   "source": [
    "## Chat"
   ]
  },
  {
   "cell_type": "code",
   "execution_count": 23,
   "id": "819a4fc3-b0b1-4201-87f2-d089eb532e3e",
   "metadata": {},
   "outputs": [
    {
     "data": {
      "text/markdown": [
       "Ahoy there, matey! Let's set sail on a culinary adventure and find the perfect dinner for ye. Here be some options to consider:\n",
       "\n",
       "1. **Fish and Chips:** Embark on a classic voyage with a hearty portion of golden-fried fish, accompanied by crispy chips. Dip 'em in tartar sauce for a taste of the seven seas.\n",
       "\n",
       "2. **Lobster Roll:** Dive into a luxurious feast with a succulent lobster roll. Fresh lobster meat, nestled in a toasted bun, dressed with butter and a hint of lemon. Ahoy, matey!\n",
       "\n",
       "3. **Paella:** Set your course for Spain with a vibrant paella. A delightful mix of rice, seafood, and vegetables, all simmering together in a saffron-infused broth. Ole!\n",
       "\n",
       "4. **Sushi Platter:** Sail to the shores of Japan and indulge in a sushi platter. An assortment of fresh fish, rice, and seaweed, served with soy sauce, wasabi, and pickled ginger. Arigato!\n",
       "\n",
       "5. **Grilled Swordfish:** Cast your line and reel in a grilled swordfish steak. Marinated in herbs and olive oil, then grilled to perfection. Served with a tangy lemon-butter sauce.\n",
       "\n",
       "6. **Crab Cakes:** Dive into a treasure chest of crab cakes. Fresh crab meat, combined with bread crumbs, spices, and a touch of Old Bay seasoning. Pan-fried until golden brown.\n",
       "\n",
       "7. **Clam Chowder:** Warm your soul with a hearty bowl of clam chowder. A creamy broth, brimming with clams, potatoes, and vegetables. A New England classic!\n",
       "\n",
       "8. **Lobster Mac and Cheese:** Embark on a cheesy adventure with lobster mac and cheese. Creamy macaroni and cheese, elevated with chunks of succulent lobster. Ahoy, matey!\n",
       "\n",
       "9. **Oysters Rockefeller:** Indulge in the riches of the sea with oysters Rockefeller. Fresh oysters, topped with a decadent spinach, breadcrumb, and Pernod stuffing. Baked until golden brown.\n",
       "\n",
       "10. **Shrimp Scampi:** Set sail for Italy with a sizzling plate of shrimp scampi. Fresh shrimp, sautéed in a garlicky white wine sauce. Served over linguine or angel hair pasta.\n",
       "\n",
       "No matter what ye choose, matey, make sure it be a feast fit for a pirate king! Bon appétit!"
      ],
      "text/plain": [
       "<IPython.core.display.Markdown object>"
      ]
     },
     "execution_count": 23,
     "metadata": {},
     "output_type": "execute_result"
    }
   ],
   "source": [
    "from llama_index.llms import ChatMessage\n",
    "messages = [\n",
    "    ChatMessage(role='user', content='Hello friend!'),\n",
    "    ChatMessage(role='assistant', content=\"Yarr what is shakin' matey?\"),\n",
    "    ChatMessage(role='user', content='Help me decide what to have for dinner.')\n",
    "]\n",
    "resp = Gemini().chat(messages)\n",
    "Markdown(resp.message.content)"
   ]
  },
  {
   "cell_type": "markdown",
   "id": "dd2932db-a754-44df-a90c-0c86e1065500",
   "metadata": {},
   "source": [
    "## Streaming (completion)"
   ]
  },
  {
   "cell_type": "code",
   "execution_count": 41,
   "id": "3bac7192-4898-4671-be73-089e2012fcff",
   "metadata": {},
   "outputs": [],
   "source": [
    "llm = Gemini()\n",
    "resp = llm.stream_complete('In less than 100 wrods, Singapore is quite')"
   ]
  },
  {
   "cell_type": "code",
   "execution_count": 42,
   "id": "196785be-34bc-483e-8122-cf0e3f058796",
   "metadata": {},
   "outputs": [
    {
     "name": "stdout",
     "output_type": "stream",
     "text": [
      "Singapore is a vibrant and cosmopolitan city-state located in Southeast Asia. It is\n",
      " renowned for its multiculturalism, economic prosperity, and high standard of living. The city is a major financial and business hub, and is home to a diverse population\n",
      " of over 5 million people. Singapore is also known for its efficient public transportation system, clean and green environment, and world-class attractions such as Gardens by the Bay, Marina Bay Sands, and Sentosa Island.\n"
     ]
    }
   ],
   "source": [
    "for msg in resp:\n",
    "    print(msg)"
   ]
  },
  {
   "cell_type": "markdown",
   "id": "bf2ea86e-74bc-4327-9fe0-4319ce1eac98",
   "metadata": {},
   "source": [
    "## Streaming (Chat)"
   ]
  },
  {
   "cell_type": "code",
   "execution_count": 44,
   "id": "a83cf215-55d4-47e4-b6f6-f557cc1107d2",
   "metadata": {},
   "outputs": [
    {
     "name": "stdout",
     "output_type": "stream",
     "text": [
      "assistant: 1. **Establish a Clear AI Strategy:**\n",
      "   - Define the company'\n",
      "assistant: s long-term vision for AI and its alignment with overall business goals.\n",
      "   - Identify specific areas where AI can create value and drive competitive advantage.\n",
      "\n",
      "\n",
      "assistant: 2. **Build an AI Center of Excellence:**\n",
      "   - Create a dedicated team of AI experts responsible for driving AI initiatives across the organization.\n",
      "   - Foster a culture of collaboration and knowledge sharing between AI experts and business units.\n",
      "\n",
      "3. **Invest in AI Infrastructure:**\n",
      "   - Develop a robust and scalable\n",
      "assistant:  AI infrastructure to support data storage, processing, and model training.\n",
      "   - Ensure access to high-quality data sources and tools for data preparation and analysis.\n",
      "\n",
      "4. **Upskill the Workforce:**\n",
      "   - Provide training and development opportunities for employees to understand AI concepts and applications.\n",
      "   - Encourage a culture of continuous learning and experimentation with AI technologies.\n",
      "\n",
      "5. **Identify High-Value Use Cases:**\n",
      "   - Conduct a thorough analysis to identify specific business processes or functions where AI can deliver significant value.\n",
      "   - Prioritize use cases based on their potential impact, feasibility, and alignment with strategic objectives.\n",
      "\n",
      "6\n",
      "assistant: . **Develop Ethical AI Guidelines:**\n",
      "   - Establish clear ethical principles and guidelines for the development and deployment of AI systems.\n",
      "   - Ensure that AI algorithms are fair, unbiased, and transparent, and that they respect user privacy and security.\n",
      "\n",
      "7. **Partner with AI Experts:**\n",
      "   - Collaborate with external AI experts, such as universities, research institutions, or technology partners.\n",
      "   - Leverage their expertise to accelerate AI development and gain access to cutting-edge technologies.\n",
      "\n",
      "8. **Monitor and Evaluate AI Initiatives:**\n",
      "   - Continuously monitor the performance and impact of AI initiatives to ensure they are meeting expectations.\n",
      "   - Regularly evaluate the effectiveness of AI algorithms and make necessary adjustments to improve their accuracy and efficiency.\n",
      "\n",
      "9. **Foster a Data-Driven Culture:**\n",
      "   - Encourage a data-driven decision-making culture across the organization.\n",
      "   - Ensure that AI models are trained on high-quality data and that decisions are based on data-driven insights.\n",
      "\n",
      "10. **Stay Informed about AI Trends:**\n",
      "    - Continuously monitor emerging AI trends, technologies, and best practices.\n",
      "    - Stay up-to-date with the latest developments in the field to ensure the company remains competitive and innovative.\n"
     ]
    }
   ],
   "source": [
    "llm = Gemini()\n",
    "\n",
    "messages = [\n",
    "    ChatMessage(role='system', content=\"You are a experienced Product Manager. Answer the questions your CEO asks you.\"),\n",
    "    ChatMessage(role='user', content='What initiatives should we start for AI?'),\n",
    "]\n",
    "\n",
    "resp = llm.stream_chat(messages)\n",
    "for msg in resp:\n",
    "    print(msg)"
   ]
  },
  {
   "cell_type": "markdown",
   "id": "f8d5b77d-d391-4b91-b3c6-5e3e5ba061b9",
   "metadata": {},
   "source": [
    "## Async completion"
   ]
  },
  {
   "cell_type": "code",
   "execution_count": 46,
   "id": "0b7041e3-9ab0-4870-8fac-8edd634b4ed3",
   "metadata": {},
   "outputs": [
    {
     "data": {
      "text/markdown": [
       "Multimodal LLMs (Large Language Models) are advanced AI models capable of processing and generating data across various modalities, including text, images, audio, and video. They combine the strengths of traditional LLMs, which excel in text-based tasks, with the ability to understand and respond to different types of media.\n",
       "\n",
       "Key characteristics of multimodal LLMs include:\n",
       "\n",
       "1. **Multimodal Input and Output:** Multimodal LLMs can accept input in various formats, such as text, images, or audio, and generate output in the same or different modalities. This enables them to perform tasks like image captioning, speech recognition, and video summarization.\n",
       "\n",
       "2. **Cross-Modal Understanding:** Multimodal LLMs are trained on vast datasets that contain associations between different modalities. This allows them to establish relationships between text and images, audio and text, and so on. They can leverage these relationships to perform tasks like visual question answering and audio-visual scene understanding.\n",
       "\n",
       "3. **Joint Representation Learning:** Multimodal LLMs employ joint representation learning techniques to encode information from different modalities into a shared representation. This shared representation captures the underlying relationships and dependencies between the modalities, enabling the model to make informed decisions and generate coherent responses.\n",
       "\n",
       "4. **Generative Capabilities:** Multimodal LLMs can generate text, images, audio, or video based on the input they receive. They can generate realistic images from text descriptions, create music from text prompts, or produce video clips based on textual instructions.\n",
       "\n",
       "5. **Transfer Learning:** Multimodal LLMs can be fine-tuned or adapted to specific tasks or domains by leveraging transfer learning techniques. This allows them to quickly adapt to new tasks without requiring extensive retraining from scratch.\n",
       "\n",
       "Multimodal LLMs have a wide range of potential applications, including:\n",
       "\n",
       "- **Creative Content Generation:** Multimodal LLMs can be used to generate creative content such as images, music, and videos, based on textual descriptions or prompts.\n",
       "\n",
       "- **Media Search and Retrieval:** Multimodal LLMs can help users search and retrieve media content by enabling cross-modal queries. For example, a user could search for images using a text query or find videos based on an audio clip.\n",
       "\n",
       "- **Augmented Reality and Virtual Reality:** Multimodal LLMs can enhance AR and VR experiences by generating realistic virtual environments, objects, and interactions based on user input.\n",
       "\n",
       "- **Healthcare and Medical Imaging:** Multimodal LLMs can assist in medical diagnosis and treatment by analyzing medical images, such as X-rays and MRI scans, and providing insights based on their findings.\n",
       "\n",
       "- **Robotics and Autonomous Systems:** Multimodal LLMs can help robots and autonomous systems perceive and interact with their surroundings by processing and responding to various sensory inputs.\n",
       "\n",
       "As research and development in multimodal LLMs continue to advance, we can expect to see even more innovative and groundbreaking applications emerge in the future."
      ],
      "text/plain": [
       "<IPython.core.display.Markdown object>"
      ]
     },
     "execution_count": 46,
     "metadata": {},
     "output_type": "execute_result"
    }
   ],
   "source": [
    "resp = await llm.acomplete('multimodal llm are')\n",
    "Markdown(resp.text)"
   ]
  },
  {
   "cell_type": "markdown",
   "id": "4825b658-f048-4609-8d77-294ef7025142",
   "metadata": {},
   "source": [
    "## Async streaming (completion)"
   ]
  },
  {
   "cell_type": "code",
   "execution_count": 47,
   "id": "4d011157-1097-4bc2-b95a-cfd43ec86812",
   "metadata": {},
   "outputs": [
    {
     "name": "stdout",
     "output_type": "stream",
     "text": [
      "Large Language Models (LLMs) are a type of artificial intelligence (AI) that can generate human-like text. They are trained on a massive dataset of text and code, and they learn to predict the next word in a sequence based on the words that came before it. This allows them to generate text that is both coherent and grammatically correct.\n",
      "\n",
      "LLMs are still under development, but they have already shown great promise in a variety of applications, including:\n",
      "\n",
      "* **Natural language processing (NLP)**: LLMs can be used to perform a variety of NLP tasks, such as machine translation, text summarization, and question answering.\n",
      "* **Content creation**: LLMs can be used to generate creative content, such as poetry, short stories, and even entire novels.\n",
      "* **Customer service**: LLMs can be used to power chatbots and other customer service tools.\n",
      "* **Education**: LLMs can be used to create personalized learning experiences for students.\n",
      "\n",
      "LLMs are a powerful tool with the potential to revolutionize the way we interact with computers. As they continue to develop, we can expect to see them used in even more innovative and groundbreaking ways.\n",
      "\n",
      "Here are some specific examples of how LLMs are being used today:\n",
      "\n",
      "* **Google Translate** uses an LLM to translate text between over 100 languages.\n",
      "* **Grammarly** uses an LLM to check for grammar and spelling errors in writing.\n",
      "* **Jasper** uses an LLM to help businesses create marketing content, such as blog posts, social media posts, and email campaigns.\n",
      "* **Duolingo** uses an LLM to help people learn new languages.\n",
      "* **Coursera** uses an LLM to create personalized learning experiences for students.\n",
      "\n",
      "These are just a few examples of the many ways that LLMs are being used today. As they continue to develop, we can expect to see them used in even more innovative and groundbreaking ways."
     ]
    }
   ],
   "source": [
    "resp = await llm.astream_complete('llm agents are')\n",
    "async for chunk in resp:\n",
    "    print(chunk.text, end='')"
   ]
  }
 ],
 "metadata": {
  "kernelspec": {
   "display_name": "Python 3 (ipykernel)",
   "language": "python",
   "name": "python3"
  },
  "language_info": {
   "codemirror_mode": {
    "name": "ipython",
    "version": 3
   },
   "file_extension": ".py",
   "mimetype": "text/x-python",
   "name": "python",
   "nbconvert_exporter": "python",
   "pygments_lexer": "ipython3",
   "version": "3.11.6"
  }
 },
 "nbformat": 4,
 "nbformat_minor": 5
}
