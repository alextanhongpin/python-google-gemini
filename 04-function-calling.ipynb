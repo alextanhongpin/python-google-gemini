{
 "cells": [
  {
   "cell_type": "markdown",
   "id": "b7a0016d-db52-4231-ada6-5366a4f2fd46",
   "metadata": {},
   "source": [
    "# Function calling\n",
    "\n",
    "https://ai.google.dev/docs/function_calling"
   ]
  },
  {
   "cell_type": "code",
   "execution_count": 42,
   "id": "ac6a892d-0e93-4f74-bd65-2dc05145cb17",
   "metadata": {},
   "outputs": [],
   "source": [
    "import os\n",
    "GOOGLE_API_KEY = os.environ['GOOGLE_API_KEY']"
   ]
  },
  {
   "cell_type": "code",
   "execution_count": 47,
   "id": "0f0cae47-b861-4905-9030-a822ae6fa952",
   "metadata": {},
   "outputs": [],
   "source": [
    "def user(text):\n",
    "    return { \n",
    "        'role': 'user',\n",
    "        'parts': [{\n",
    "            'text': text\n",
    "        }]\n",
    "    }\n",
    "\n",
    "def function_response(name, content):\n",
    "    return {\n",
    "        \"role\": \"function\",\n",
    "        \"parts\": [{\n",
    "          \"functionResponse\": {\n",
    "            \"name\": name,\n",
    "            \"response\": {\n",
    "              \"name\": name,\n",
    "              \"content\": content\n",
    "            }\n",
    "          }\n",
    "        }]\n",
    "      }\n",
    "\n",
    "def tools():\n",
    "    return [\n",
    "        {\n",
    "            'name': 'datetime_now',\n",
    "            'description': 'returns the current date'\n",
    "        },\n",
    "        {\n",
    "            'name': 'web_search',\n",
    "            'description': 'browse the web for content',\n",
    "            'parameters': {\n",
    "                'type': 'object',\n",
    "                'properties': {\n",
    "                    'query': {\n",
    "                        'type': 'string',\n",
    "                        'description': 'the search keyword'\n",
    "                    }\n",
    "                },\n",
    "                'required': ['query']\n",
    "            }\n",
    "        }\n",
    "    ]"
   ]
  },
  {
   "cell_type": "code",
   "execution_count": 44,
   "id": "083e0141-806c-4ab3-b34e-bee23083e780",
   "metadata": {},
   "outputs": [
    {
     "name": "stdout",
     "output_type": "stream",
     "text": [
      "{'contents': [{'role': 'user', 'parts': [{'text': \"what is today's date?\"}]}], 'tools': [{'function_declarations': [{'name': 'datetime_now', 'description': 'returns the current date'}, {'name': 'web_search', 'description': 'browse the web for content', 'parameters': {'type': 'object', 'properties': {'query': {'type': 'string', 'description': 'the search keyword'}}, 'required': ['query']}}]}]}\n"
     ]
    }
   ],
   "source": [
    "import requests\n",
    "\n",
    "params = {\n",
    "    'key': GOOGLE_API_KEY\n",
    "}\n",
    "data = {\n",
    "    'contents': [user(\"what is today's date?\")],\n",
    "    'tools': [\n",
    "        {'function_declarations': tools()}\n",
    "    ]\n",
    "}\n",
    "print(data)"
   ]
  },
  {
   "cell_type": "code",
   "execution_count": 45,
   "id": "6964da19-29f3-4996-b39d-c239a8c63b28",
   "metadata": {},
   "outputs": [
    {
     "data": {
      "text/plain": [
       "<Response [200]>"
      ]
     },
     "execution_count": 45,
     "metadata": {},
     "output_type": "execute_result"
    }
   ],
   "source": [
    "response = requests.post(\"https://generativelanguage.googleapis.com/v1beta/models/gemini-pro:generateContent\", params=params, json=data)\n",
    "response"
   ]
  },
  {
   "cell_type": "code",
   "execution_count": 82,
   "id": "0ebe0c62-8353-4433-9c6c-c7f83a8c73ed",
   "metadata": {},
   "outputs": [
    {
     "name": "stdout",
     "output_type": "stream",
     "text": [
      "{'candidates': [{'content': {'parts': [{'functionCall': {'name': 'datetime_now', 'args': {}}}], 'role': 'model'}, 'finishReason': 'STOP', 'index': 0}], 'promptFeedback': {'safetyRatings': [{'category': 'HARM_CATEGORY_SEXUALLY_EXPLICIT', 'probability': 'NEGLIGIBLE'}, {'category': 'HARM_CATEGORY_HATE_SPEECH', 'probability': 'NEGLIGIBLE'}, {'category': 'HARM_CATEGORY_HARASSMENT', 'probability': 'NEGLIGIBLE'}, {'category': 'HARM_CATEGORY_DANGEROUS_CONTENT', 'probability': 'NEGLIGIBLE'}]}}\n"
     ]
    }
   ],
   "source": [
    "print(response.json())"
   ]
  },
  {
   "cell_type": "code",
   "execution_count": 89,
   "id": "e4a8ea19-825a-43a5-8bad-20e22fe587a4",
   "metadata": {},
   "outputs": [],
   "source": [
    "from datetime import datetime\n",
    "\n",
    "function_call = response.json()['candidates'][0]['content']\n",
    "function_resp = function_response(function_call['parts'][0]['functionCall']['name'], str(datetime.now()))"
   ]
  },
  {
   "cell_type": "code",
   "execution_count": 90,
   "id": "d9a12543-280a-473e-983b-6dd4d2eec984",
   "metadata": {},
   "outputs": [
    {
     "name": "stdout",
     "output_type": "stream",
     "text": [
      "{\n",
      "  \"contents\": [\n",
      "    {\n",
      "      \"role\": \"user\",\n",
      "      \"parts\": [\n",
      "        {\n",
      "          \"text\": \"what is today's date?\"\n",
      "        }\n",
      "      ]\n",
      "    },\n",
      "    {\n",
      "      \"parts\": [\n",
      "        {\n",
      "          \"functionCall\": {\n",
      "            \"name\": \"datetime_now\",\n",
      "            \"args\": {}\n",
      "          }\n",
      "        }\n",
      "      ],\n",
      "      \"role\": \"model\"\n",
      "    },\n",
      "    {\n",
      "      \"role\": \"function\",\n",
      "      \"parts\": [\n",
      "        {\n",
      "          \"functionResponse\": {\n",
      "            \"name\": \"datetime_now\",\n",
      "            \"response\": {\n",
      "              \"name\": \"datetime_now\",\n",
      "              \"content\": \"2023-12-25 02:48:05.807683\"\n",
      "            }\n",
      "          }\n",
      "        }\n",
      "      ]\n",
      "    }\n",
      "  ],\n",
      "  \"tools\": [\n",
      "    {\n",
      "      \"function_declarations\": [\n",
      "        {\n",
      "          \"name\": \"datetime_now\",\n",
      "          \"description\": \"returns the current date\"\n",
      "        },\n",
      "        {\n",
      "          \"name\": \"web_search\",\n",
      "          \"description\": \"browse the web for content\",\n",
      "          \"parameters\": {\n",
      "            \"type\": \"object\",\n",
      "            \"properties\": {\n",
      "              \"query\": {\n",
      "                \"type\": \"string\",\n",
      "                \"description\": \"the search keyword\"\n",
      "              }\n",
      "            },\n",
      "            \"required\": [\n",
      "              \"query\"\n",
      "            ]\n",
      "          }\n",
      "        }\n",
      "      ]\n",
      "    }\n",
      "  ]\n",
      "}\n"
     ]
    }
   ],
   "source": [
    "import json\n",
    "\n",
    "params = {\n",
    "    'key': GOOGLE_API_KEY\n",
    "}\n",
    "data = {\n",
    "    'contents': [user(\"what is today's date?\"), function_call, function_resp],\n",
    "    'tools': [\n",
    "        {'function_declarations': tools()}\n",
    "    ]\n",
    "}\n",
    "print(json.dumps(data, indent=2))"
   ]
  },
  {
   "cell_type": "code",
   "execution_count": 91,
   "id": "cf463fe6-97f7-4fb8-975c-daec2259950b",
   "metadata": {},
   "outputs": [
    {
     "data": {
      "text/plain": [
       "<Response [200]>"
      ]
     },
     "execution_count": 91,
     "metadata": {},
     "output_type": "execute_result"
    }
   ],
   "source": [
    "tools_response = requests.post(\"https://generativelanguage.googleapis.com/v1beta/models/gemini-pro:generateContent\", params=params, json=data)\n",
    "tools_response"
   ]
  },
  {
   "cell_type": "code",
   "execution_count": 92,
   "id": "8f9410bb-7f5e-4aec-95f7-a9c59076804b",
   "metadata": {},
   "outputs": [
    {
     "name": "stdout",
     "output_type": "stream",
     "text": [
      "{\n",
      "  \"candidates\": [\n",
      "    {\n",
      "      \"content\": {\n",
      "        \"parts\": [\n",
      "          {\n",
      "            \"text\": \" Today is December 25th, 2023.\"\n",
      "          }\n",
      "        ],\n",
      "        \"role\": \"model\"\n",
      "      },\n",
      "      \"finishReason\": \"STOP\",\n",
      "      \"index\": 0,\n",
      "      \"safetyRatings\": [\n",
      "        {\n",
      "          \"category\": \"HARM_CATEGORY_SEXUALLY_EXPLICIT\",\n",
      "          \"probability\": \"NEGLIGIBLE\"\n",
      "        },\n",
      "        {\n",
      "          \"category\": \"HARM_CATEGORY_HATE_SPEECH\",\n",
      "          \"probability\": \"NEGLIGIBLE\"\n",
      "        },\n",
      "        {\n",
      "          \"category\": \"HARM_CATEGORY_HARASSMENT\",\n",
      "          \"probability\": \"NEGLIGIBLE\"\n",
      "        },\n",
      "        {\n",
      "          \"category\": \"HARM_CATEGORY_DANGEROUS_CONTENT\",\n",
      "          \"probability\": \"NEGLIGIBLE\"\n",
      "        }\n",
      "      ]\n",
      "    }\n",
      "  ]\n",
      "}\n",
      "\n"
     ]
    }
   ],
   "source": [
    "print(tools_response.text)"
   ]
  },
  {
   "cell_type": "code",
   "execution_count": 48,
   "id": "b5169266-a2b3-4fa6-a8aa-3d9f55c0227d",
   "metadata": {},
   "outputs": [],
   "source": [
    "def extract_function_call(data):\n",
    "    \"\"\"\n",
    "    Returns: {'name': 'datetime_now', 'args': {}}\n",
    "    \"\"\"\n",
    "    try:\n",
    "        return data['candidates'][0]['content']['parts'][0]['functionCall']\n",
    "    except:\n",
    "        return None"
   ]
  },
  {
   "cell_type": "code",
   "execution_count": 54,
   "id": "feb8b004-01f1-4de3-9727-6fac7ab3354b",
   "metadata": {},
   "outputs": [
    {
     "name": "stdout",
     "output_type": "stream",
     "text": [
      "{\n",
      "  \"candidates\": [\n",
      "    {\n",
      "      \"content\": {\n",
      "        \"parts\": [\n",
      "          {\n",
      "            \"functionCall\": {\n",
      "              \"name\": \"datetime_now\",\n",
      "              \"args\": {}\n",
      "            }\n",
      "          }\n",
      "        ],\n",
      "        \"role\": \"model\"\n",
      "      },\n",
      "      \"finishReason\": \"STOP\",\n",
      "      \"index\": 0\n",
      "    }\n",
      "  ],\n",
      "  \"promptFeedback\": {\n",
      "    \"safetyRatings\": [\n",
      "      {\n",
      "        \"category\": \"HARM_CATEGORY_SEXUALLY_EXPLICIT\",\n",
      "        \"probability\": \"NEGLIGIBLE\"\n",
      "      },\n",
      "      {\n",
      "        \"category\": \"HARM_CATEGORY_HATE_SPEECH\",\n",
      "        \"probability\": \"NEGLIGIBLE\"\n",
      "      },\n",
      "      {\n",
      "        \"category\": \"HARM_CATEGORY_HARASSMENT\",\n",
      "        \"probability\": \"NEGLIGIBLE\"\n",
      "      },\n",
      "      {\n",
      "        \"category\": \"HARM_CATEGORY_DANGEROUS_CONTENT\",\n",
      "        \"probability\": \"NEGLIGIBLE\"\n",
      "      }\n",
      "    ]\n",
      "  }\n",
      "}\n",
      "\n",
      "\n",
      "{\n",
      "  \"candidates\": [\n",
      "    {\n",
      "      \"content\": {\n",
      "        \"parts\": [\n",
      "          {\n",
      "            \"functionCall\": {\n",
      "              \"name\": \"datetime_now\",\n",
      "              \"args\": {}\n",
      "            }\n",
      "          }\n",
      "        ],\n",
      "        \"role\": \"model\"\n",
      "      },\n",
      "      \"finishReason\": \"STOP\",\n",
      "      \"index\": 0\n",
      "    }\n",
      "  ],\n",
      "  \"promptFeedback\": {\n",
      "    \"safetyRatings\": [\n",
      "      {\n",
      "        \"category\": \"HARM_CATEGORY_SEXUALLY_EXPLICIT\",\n",
      "        \"probability\": \"NEGLIGIBLE\"\n",
      "      },\n",
      "      {\n",
      "        \"category\": \"HARM_CATEGORY_HATE_SPEECH\",\n",
      "        \"probability\": \"NEGLIGIBLE\"\n",
      "      },\n",
      "      {\n",
      "        \"category\": \"HARM_CATEGORY_HARASSMENT\",\n",
      "        \"probability\": \"NEGLIGIBLE\"\n",
      "      },\n",
      "      {\n",
      "        \"category\": \"HARM_CATEGORY_DANGEROUS_CONTENT\",\n",
      "        \"probability\": \"NEGLIGIBLE\"\n",
      "      }\n",
      "    ]\n",
      "  }\n",
      "}\n",
      "\n",
      "\n",
      "{\n",
      "  \"candidates\": [\n",
      "    {\n",
      "      \"content\": {\n",
      "        \"parts\": [\n",
      "          {\n",
      "            \"functionCall\": {\n",
      "              \"name\": \"datetime_now\",\n",
      "              \"args\": {}\n",
      "            }\n",
      "          }\n",
      "        ],\n",
      "        \"role\": \"model\"\n",
      "      },\n",
      "      \"finishReason\": \"STOP\",\n",
      "      \"index\": 0\n",
      "    }\n",
      "  ],\n",
      "  \"promptFeedback\": {\n",
      "    \"safetyRatings\": [\n",
      "      {\n",
      "        \"category\": \"HARM_CATEGORY_SEXUALLY_EXPLICIT\",\n",
      "        \"probability\": \"NEGLIGIBLE\"\n",
      "      },\n",
      "      {\n",
      "        \"category\": \"HARM_CATEGORY_HATE_SPEECH\",\n",
      "        \"probability\": \"NEGLIGIBLE\"\n",
      "      },\n",
      "      {\n",
      "        \"category\": \"HARM_CATEGORY_HARASSMENT\",\n",
      "        \"probability\": \"NEGLIGIBLE\"\n",
      "      },\n",
      "      {\n",
      "        \"category\": \"HARM_CATEGORY_DANGEROUS_CONTENT\",\n",
      "        \"probability\": \"NEGLIGIBLE\"\n",
      "      }\n",
      "    ]\n",
      "  }\n",
      "}\n",
      "\n",
      "\n",
      "done\n"
     ]
    }
   ],
   "source": [
    "contents = [user(\"what is today's celebration?\")]\n",
    "while True:\n",
    "    params = {\n",
    "        'key': GOOGLE_API_KEY\n",
    "    }\n",
    "    data = {\n",
    "        'contents': contents,\n",
    "        'tools': [\n",
    "            {'function_declarations': tools()}\n",
    "        ]\n",
    "    }\n",
    "    resp = requests.post(\"https://generativelanguage.googleapis.com/v1beta/models/gemini-pro:generateContent\", params=params, json=data)\n",
    "    body = resp.json()\n",
    "    \n",
    "    print(response.text)\n",
    "    print()\n",
    "    \n",
    "    if action := extract_function_call(body):\n",
    "        tool_response = None\n",
    "        match action['name']:\n",
    "            case 'datetime_now':\n",
    "                tool_response = str(datetime.now())\n",
    "            case 'web_search':\n",
    "                tool_response = '25th December is Christmas'\n",
    "            case unknown:\n",
    "                raise ValueError(f\"function is not supported: {unknown}\")\n",
    "        contents.append(body['candidates'][0]['content'])\n",
    "        contents.append(function_response(action['name'], tool_response))\n",
    "    else:\n",
    "        contents.append(body)\n",
    "        print('done')\n",
    "        break"
   ]
  },
  {
   "cell_type": "code",
   "execution_count": 55,
   "id": "57149bd0-17ef-4d79-8c62-e78224ff23db",
   "metadata": {},
   "outputs": [
    {
     "data": {
      "text/plain": [
       "[{'role': 'user', 'parts': [{'text': \"what is today's celebration?\"}]},\n",
       " {'parts': [{'functionCall': {'name': 'datetime_now', 'args': {}}}],\n",
       "  'role': 'model'},\n",
       " {'role': 'function',\n",
       "  'parts': [{'functionResponse': {'name': 'datetime_now',\n",
       "     'response': {'name': 'datetime_now',\n",
       "      'content': '2023-12-25 23:47:33.961914'}}}]},\n",
       " {'parts': [{'functionCall': {'name': 'web_search',\n",
       "     'args': {'query': \"today's celebration\"}}}],\n",
       "  'role': 'model'},\n",
       " {'role': 'function',\n",
       "  'parts': [{'functionResponse': {'name': 'web_search',\n",
       "     'response': {'name': 'web_search',\n",
       "      'content': '25th December is Christmas'}}}]},\n",
       " {'candidates': [{'content': {'parts': [{'text': ' Today is Christmas.'}],\n",
       "     'role': 'model'},\n",
       "    'finishReason': 'STOP',\n",
       "    'index': 0,\n",
       "    'safetyRatings': [{'category': 'HARM_CATEGORY_SEXUALLY_EXPLICIT',\n",
       "      'probability': 'NEGLIGIBLE'},\n",
       "     {'category': 'HARM_CATEGORY_HATE_SPEECH', 'probability': 'NEGLIGIBLE'},\n",
       "     {'category': 'HARM_CATEGORY_HARASSMENT', 'probability': 'NEGLIGIBLE'},\n",
       "     {'category': 'HARM_CATEGORY_DANGEROUS_CONTENT',\n",
       "      'probability': 'NEGLIGIBLE'}]}]}]"
      ]
     },
     "execution_count": 55,
     "metadata": {},
     "output_type": "execute_result"
    }
   ],
   "source": [
    "contents"
   ]
  },
  {
   "cell_type": "code",
   "execution_count": null,
   "id": "3cbdce5f-aa03-4b9d-8a4b-895c8e558f83",
   "metadata": {},
   "outputs": [],
   "source": []
  }
 ],
 "metadata": {
  "kernelspec": {
   "display_name": "Python 3 (ipykernel)",
   "language": "python",
   "name": "python3"
  },
  "language_info": {
   "codemirror_mode": {
    "name": "ipython",
    "version": 3
   },
   "file_extension": ".py",
   "mimetype": "text/x-python",
   "name": "python",
   "nbconvert_exporter": "python",
   "pygments_lexer": "ipython3",
   "version": "3.11.6"
  },
  "widgets": {
   "application/vnd.jupyter.widget-state+json": {
    "state": {},
    "version_major": 2,
    "version_minor": 0
   }
  }
 },
 "nbformat": 4,
 "nbformat_minor": 5
}
