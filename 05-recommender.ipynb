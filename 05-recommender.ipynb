{
 "cells": [
  {
   "cell_type": "markdown",
   "id": "fa114af3-0b19-45d0-8f07-a1830a213fe7",
   "metadata": {},
   "source": [
    "# Recommender using Embeddings\n",
    "\n",
    "Data taken from https://www.kaggle.com/datasets/mexwell/us-software-engineer-jobs"
   ]
  },
  {
   "cell_type": "code",
   "execution_count": 1,
   "id": "17339c02-6623-4597-be31-fdf6d66a9105",
   "metadata": {},
   "outputs": [
    {
     "data": {
      "text/plain": [
       "(58433, 29)"
      ]
     },
     "execution_count": 1,
     "metadata": {},
     "output_type": "execute_result"
    }
   ],
   "source": [
    "import pandas as pd\n",
    "from pathlib import Path\n",
    "file = 'us-software-engineer-jobs-zenrows.csv'\n",
    "\n",
    "df = pd.read_csv(Path('data',file))\n",
    "df.shape"
   ]
  },
  {
   "cell_type": "code",
   "execution_count": 2,
   "id": "ee0712e1-ce56-4ba7-aeba-0ba2f9511db4",
   "metadata": {},
   "outputs": [
    {
     "data": {
      "text/html": [
       "<div>\n",
       "<style scoped>\n",
       "    .dataframe tbody tr th:only-of-type {\n",
       "        vertical-align: middle;\n",
       "    }\n",
       "\n",
       "    .dataframe tbody tr th {\n",
       "        vertical-align: top;\n",
       "    }\n",
       "\n",
       "    .dataframe thead th {\n",
       "        text-align: right;\n",
       "    }\n",
       "</style>\n",
       "<table border=\"1\" class=\"dataframe\">\n",
       "  <thead>\n",
       "    <tr style=\"text-align: right;\">\n",
       "      <th></th>\n",
       "      <th>rating</th>\n",
       "      <th>review_count</th>\n",
       "      <th>ad_id</th>\n",
       "      <th>source_id</th>\n",
       "      <th>job_location_postal</th>\n",
       "    </tr>\n",
       "  </thead>\n",
       "  <tbody>\n",
       "    <tr>\n",
       "      <th>count</th>\n",
       "      <td>58433.000000</td>\n",
       "      <td>58433.000000</td>\n",
       "      <td>2.362600e+04</td>\n",
       "      <td>5.843300e+04</td>\n",
       "      <td>26121.000000</td>\n",
       "    </tr>\n",
       "    <tr>\n",
       "      <th>mean</th>\n",
       "      <td>2.565040</td>\n",
       "      <td>1604.469050</td>\n",
       "      <td>3.376991e+08</td>\n",
       "      <td>6.605754e+06</td>\n",
       "      <td>52579.873627</td>\n",
       "    </tr>\n",
       "    <tr>\n",
       "      <th>std</th>\n",
       "      <td>1.832927</td>\n",
       "      <td>5894.934474</td>\n",
       "      <td>8.307966e+07</td>\n",
       "      <td>7.333885e+06</td>\n",
       "      <td>33371.519030</td>\n",
       "    </tr>\n",
       "    <tr>\n",
       "      <th>min</th>\n",
       "      <td>0.000000</td>\n",
       "      <td>0.000000</td>\n",
       "      <td>9.826900e+04</td>\n",
       "      <td>1.700000e+01</td>\n",
       "      <td>603.000000</td>\n",
       "    </tr>\n",
       "    <tr>\n",
       "      <th>25%</th>\n",
       "      <td>0.000000</td>\n",
       "      <td>0.000000</td>\n",
       "      <td>3.616971e+08</td>\n",
       "      <td>1.571000e+04</td>\n",
       "      <td>20877.000000</td>\n",
       "    </tr>\n",
       "    <tr>\n",
       "      <th>50%</th>\n",
       "      <td>3.500000</td>\n",
       "      <td>14.000000</td>\n",
       "      <td>3.694296e+08</td>\n",
       "      <td>3.370807e+06</td>\n",
       "      <td>53122.000000</td>\n",
       "    </tr>\n",
       "    <tr>\n",
       "      <th>75%</th>\n",
       "      <td>4.000000</td>\n",
       "      <td>624.000000</td>\n",
       "      <td>3.716887e+08</td>\n",
       "      <td>1.307450e+07</td>\n",
       "      <td>87124.000000</td>\n",
       "    </tr>\n",
       "    <tr>\n",
       "      <th>max</th>\n",
       "      <td>5.000000</td>\n",
       "      <td>223345.000000</td>\n",
       "      <td>3.725696e+08</td>\n",
       "      <td>2.077308e+07</td>\n",
       "      <td>99901.000000</td>\n",
       "    </tr>\n",
       "  </tbody>\n",
       "</table>\n",
       "</div>"
      ],
      "text/plain": [
       "             rating   review_count         ad_id     source_id  \\\n",
       "count  58433.000000   58433.000000  2.362600e+04  5.843300e+04   \n",
       "mean       2.565040    1604.469050  3.376991e+08  6.605754e+06   \n",
       "std        1.832927    5894.934474  8.307966e+07  7.333885e+06   \n",
       "min        0.000000       0.000000  9.826900e+04  1.700000e+01   \n",
       "25%        0.000000       0.000000  3.616971e+08  1.571000e+04   \n",
       "50%        3.500000      14.000000  3.694296e+08  3.370807e+06   \n",
       "75%        4.000000     624.000000  3.716887e+08  1.307450e+07   \n",
       "max        5.000000  223345.000000  3.725696e+08  2.077308e+07   \n",
       "\n",
       "       job_location_postal  \n",
       "count         26121.000000  \n",
       "mean          52579.873627  \n",
       "std           33371.519030  \n",
       "min             603.000000  \n",
       "25%           20877.000000  \n",
       "50%           53122.000000  \n",
       "75%           87124.000000  \n",
       "max           99901.000000  "
      ]
     },
     "execution_count": 2,
     "metadata": {},
     "output_type": "execute_result"
    }
   ],
   "source": [
    "df.describe()"
   ]
  },
  {
   "cell_type": "code",
   "execution_count": 3,
   "id": "6aaffff3-6360-43d7-9b2e-dbaf5fe9785a",
   "metadata": {},
   "outputs": [
    {
     "data": {
      "text/plain": [
       "(58433, 5)"
      ]
     },
     "execution_count": 3,
     "metadata": {},
     "output_type": "execute_result"
    }
   ],
   "source": [
    "columns = ['title', 'company', 'types', 'location', 'snippet']\n",
    "df = df[columns]\n",
    "df.shape"
   ]
  },
  {
   "cell_type": "code",
   "execution_count": 4,
   "id": "aeda71b2-b815-4d30-9f8c-52cb21055626",
   "metadata": {},
   "outputs": [
    {
     "name": "stderr",
     "output_type": "stream",
     "text": [
      "/var/folders/7m/74_ct3hx33d878n626w1wxyc0000gn/T/ipykernel_32415/96582268.py:1: SettingWithCopyWarning: \n",
      "A value is trying to be set on a copy of a slice from a DataFrame\n",
      "\n",
      "See the caveats in the documentation: https://pandas.pydata.org/pandas-docs/stable/user_guide/indexing.html#returning-a-view-versus-a-copy\n",
      "  df[df['snippet'].isnull()].dropna(inplace=True, axis='rows')\n"
     ]
    }
   ],
   "source": [
    "df[df['snippet'].isnull()].dropna(inplace=True, axis='rows')"
   ]
  },
  {
   "cell_type": "code",
   "execution_count": 5,
   "id": "52e2b44f-f716-4f9d-9cb7-2daa1d93b03a",
   "metadata": {},
   "outputs": [
    {
     "data": {
      "text/plain": [
       "Index([928, 2796, 24639, 36774, 38167, 39357, 44512, 57079], dtype='int64')"
      ]
     },
     "execution_count": 5,
     "metadata": {},
     "output_type": "execute_result"
    }
   ],
   "source": [
    "# Filter out rows \n",
    "mask = df[['title', 'snippet']].isnull().any(axis='columns')\n",
    "df[mask].index"
   ]
  },
  {
   "cell_type": "code",
   "execution_count": 6,
   "id": "53c6ea94-f884-4de6-9790-bd2b61bc48c4",
   "metadata": {},
   "outputs": [
    {
     "data": {
      "text/plain": [
       "(58425, 5)"
      ]
     },
     "execution_count": 6,
     "metadata": {},
     "output_type": "execute_result"
    }
   ],
   "source": [
    "df.drop(index=df[mask].index, inplace=True)\n",
    "df.shape"
   ]
  },
  {
   "cell_type": "code",
   "execution_count": 7,
   "id": "a701f41a-9759-41bf-851f-32c81960f6e3",
   "metadata": {},
   "outputs": [
    {
     "data": {
      "text/html": [
       "<div>\n",
       "<style scoped>\n",
       "    .dataframe tbody tr th:only-of-type {\n",
       "        vertical-align: middle;\n",
       "    }\n",
       "\n",
       "    .dataframe tbody tr th {\n",
       "        vertical-align: top;\n",
       "    }\n",
       "\n",
       "    .dataframe thead th {\n",
       "        text-align: right;\n",
       "    }\n",
       "</style>\n",
       "<table border=\"1\" class=\"dataframe\">\n",
       "  <thead>\n",
       "    <tr style=\"text-align: right;\">\n",
       "      <th></th>\n",
       "      <th>title</th>\n",
       "      <th>company</th>\n",
       "      <th>types</th>\n",
       "      <th>location</th>\n",
       "      <th>snippet</th>\n",
       "    </tr>\n",
       "  </thead>\n",
       "  <tbody>\n",
       "    <tr>\n",
       "      <th>40628</th>\n",
       "      <td>Software Engineer - Crypto Products</td>\n",
       "      <td>TradeStation</td>\n",
       "      <td>NaN</td>\n",
       "      <td>Remote</td>\n",
       "      <td>Work and collaborate with DevOps engineers to ...</td>\n",
       "    </tr>\n",
       "    <tr>\n",
       "      <th>56524</th>\n",
       "      <td>Principal Software Engineer</td>\n",
       "      <td>Liberty Mutual Insurance</td>\n",
       "      <td>NaN</td>\n",
       "      <td>Remote</td>\n",
       "      <td>7+ years of software engineering experience.\\n...</td>\n",
       "    </tr>\n",
       "    <tr>\n",
       "      <th>32993</th>\n",
       "      <td>C# Senior Software Developer (Contractor) - Fr...</td>\n",
       "      <td>DataAxxis</td>\n",
       "      <td>Full-time, Contract</td>\n",
       "      <td>New York, NY</td>\n",
       "      <td>The Front Office Senior Software Developer wil...</td>\n",
       "    </tr>\n",
       "    <tr>\n",
       "      <th>3546</th>\n",
       "      <td>Site Reliability Engineer</td>\n",
       "      <td>SHIELD AI</td>\n",
       "      <td>NaN</td>\n",
       "      <td>San Diego, CA</td>\n",
       "      <td>Collaborate with a diverse group of supportive...</td>\n",
       "    </tr>\n",
       "    <tr>\n",
       "      <th>37609</th>\n",
       "      <td>c# Engineer</td>\n",
       "      <td>Optimum Technologies</td>\n",
       "      <td>Full-time</td>\n",
       "      <td>San Francisco Bay Area, CA</td>\n",
       "      <td>Versed in software engineering best practices ...</td>\n",
       "    </tr>\n",
       "  </tbody>\n",
       "</table>\n",
       "</div>"
      ],
      "text/plain": [
       "                                                   title  \\\n",
       "40628                Software Engineer - Crypto Products   \n",
       "56524                        Principal Software Engineer   \n",
       "32993  C# Senior Software Developer (Contractor) - Fr...   \n",
       "3546                           Site Reliability Engineer   \n",
       "37609                                        c# Engineer   \n",
       "\n",
       "                        company                types  \\\n",
       "40628              TradeStation                  NaN   \n",
       "56524  Liberty Mutual Insurance                  NaN   \n",
       "32993                 DataAxxis  Full-time, Contract   \n",
       "3546                  SHIELD AI                  NaN   \n",
       "37609      Optimum Technologies            Full-time   \n",
       "\n",
       "                         location  \\\n",
       "40628                      Remote   \n",
       "56524                      Remote   \n",
       "32993                New York, NY   \n",
       "3546                San Diego, CA   \n",
       "37609  San Francisco Bay Area, CA   \n",
       "\n",
       "                                                 snippet  \n",
       "40628  Work and collaborate with DevOps engineers to ...  \n",
       "56524  7+ years of software engineering experience.\\n...  \n",
       "32993  The Front Office Senior Software Developer wil...  \n",
       "3546   Collaborate with a diverse group of supportive...  \n",
       "37609  Versed in software engineering best practices ...  "
      ]
     },
     "execution_count": 7,
     "metadata": {},
     "output_type": "execute_result"
    }
   ],
   "source": [
    "df.sample(5)"
   ]
  },
  {
   "cell_type": "code",
   "execution_count": 22,
   "id": "a285daff-49db-4d33-9fd4-7c6ed3f7393f",
   "metadata": {},
   "outputs": [],
   "source": [
    "pd.set_option('display.max_colwidth', None)\n",
    "\n",
    "documents = list(df['snippet'][:5])"
   ]
  },
  {
   "cell_type": "code",
   "execution_count": 10,
   "id": "13439f84-8bbd-4ba6-816d-deb8ffb91ea0",
   "metadata": {},
   "outputs": [
    {
     "data": {
      "text/plain": [
       "[{'model': 'BAAI/bge-small-en',\n",
       "  'dim': 384,\n",
       "  'description': 'Fast English model',\n",
       "  'size_in_GB': 0.2},\n",
       " {'model': 'BAAI/bge-small-en-v1.5',\n",
       "  'dim': 384,\n",
       "  'description': 'Fast and Default English model',\n",
       "  'size_in_GB': 0.13},\n",
       " {'model': 'BAAI/bge-small-zh-v1.5',\n",
       "  'dim': 512,\n",
       "  'description': 'Fast and recommended Chinese model',\n",
       "  'size_in_GB': 0.1},\n",
       " {'model': 'BAAI/bge-base-en',\n",
       "  'dim': 768,\n",
       "  'description': 'Base English model',\n",
       "  'size_in_GB': 0.5},\n",
       " {'model': 'BAAI/bge-base-en-v1.5',\n",
       "  'dim': 768,\n",
       "  'description': 'Base English model, v1.5',\n",
       "  'size_in_GB': 0.44},\n",
       " {'model': 'sentence-transformers/all-MiniLM-L6-v2',\n",
       "  'dim': 384,\n",
       "  'description': 'Sentence Transformer model, MiniLM-L6-v2',\n",
       "  'size_in_GB': 0.09},\n",
       " {'model': 'intfloat/multilingual-e5-large',\n",
       "  'dim': 1024,\n",
       "  'description': 'Multilingual model, e5-large. Recommend using this model for non-English languages',\n",
       "  'size_in_GB': 2.24}]"
      ]
     },
     "execution_count": 10,
     "metadata": {},
     "output_type": "execute_result"
    }
   ],
   "source": [
    "from fastembed.embedding import FlagEmbedding as Embedding\n",
    "import numpy as np\n",
    "\n",
    "Embedding.list_supported_models()"
   ]
  },
  {
   "cell_type": "code",
   "execution_count": 23,
   "id": "8358de0a-d28f-497c-a135-343358ea1795",
   "metadata": {},
   "outputs": [
    {
     "name": "stderr",
     "output_type": "stream",
     "text": [
      "100%|████████████████████████████████████████████████████████████████████████████████████████████████████████████| 76.7M/76.7M [00:06<00:00, 11.6MiB/s]\n"
     ]
    }
   ],
   "source": [
    "embedding_model = Embedding(model_name=\"BAAI/bge-small-en-v1.5\", max_length=512) \n",
    "embeddings: [np.ndarray] = list(embedding_model.embed(documents)) # Note the list() call - this is a generator "
   ]
  },
  {
   "cell_type": "code",
   "execution_count": 35,
   "id": "d5008728-fc18-4672-af86-0cf98ca5673a",
   "metadata": {},
   "outputs": [],
   "source": [
    "def print_top_k(query, embeddings, documents, top_k=5):\n",
    "    query_embedding = list(embedding_model.query_embed(query))[0]\n",
    "    \n",
    "    # Calculate cosine similarity.\n",
    "    scores = np.dot(embeddings, query_embedding)\n",
    "    \n",
    "    sorted_scores = np.argsort(scores)[::-1]\n",
    "    for i in range(top_k):\n",
    "        print(f\"Rank {i+1}: {documents[sorted_scores[i]]}\")"
   ]
  },
  {
   "cell_type": "code",
   "execution_count": 36,
   "id": "bc7a4e1c-3abc-47b8-a9cb-95cf2e726e36",
   "metadata": {},
   "outputs": [
    {
     "name": "stdout",
     "output_type": "stream",
     "text": [
      "Rank 1: This person will be a senior member of the team and will be responsible for architecting, building complex features and providing technical guidance to other…\n",
      "Rank 2: Proficiency in Agile software development principles is required.\n",
      " Advanced knowledge of industry software development methodologies, standards and architecture…\n",
      "Rank 3: The ideal candidate will have a skill for tough puzzles, a talent for communicating complex ideas simply, and a drive to meet high expectations with great…\n",
      "Rank 4: Reports to* DIRECTOR OF MARKETING.\n",
      " PHP - Equivalent of 3 years education and/or experience.\n",
      " Java script - Equivalent of 3 years education and/or experience.\n",
      "Rank 5: Throughout the day, you will collaborate with your teammates and interact with our clients.\n",
      " Benefits! Shockoe offers a comprehensive and competitive benefits…\n"
     ]
    }
   ],
   "source": [
    "print_top_k(\"I am a backend engineer looking for golang job\", embeddings, documents)"
   ]
  },
  {
   "cell_type": "code",
   "execution_count": 37,
   "id": "e4b3dd2f-4e86-47cc-bebd-89a3da25997f",
   "metadata": {},
   "outputs": [
    {
     "name": "stdout",
     "output_type": "stream",
     "text": [
      "Rank 1: Reports to* DIRECTOR OF MARKETING.\n",
      " PHP - Equivalent of 3 years education and/or experience.\n",
      " Java script - Equivalent of 3 years education and/or experience.\n",
      "Rank 2: This person will be a senior member of the team and will be responsible for architecting, building complex features and providing technical guidance to other…\n",
      "Rank 3: The ideal candidate will have a skill for tough puzzles, a talent for communicating complex ideas simply, and a drive to meet high expectations with great…\n",
      "Rank 4: Throughout the day, you will collaborate with your teammates and interact with our clients.\n",
      " Benefits! Shockoe offers a comprehensive and competitive benefits…\n",
      "Rank 5: Proficiency in Agile software development principles is required.\n",
      " Advanced knowledge of industry software development methodologies, standards and architecture…\n"
     ]
    }
   ],
   "source": [
    "print_top_k(\"I am a backend engineer looking for php job\", embeddings, documents)"
   ]
  },
  {
   "cell_type": "code",
   "execution_count": 100,
   "id": "6c3da383-146c-4d79-8100-4cd38c28d8db",
   "metadata": {},
   "outputs": [
    {
     "data": {
      "text/html": [
       "<div>\n",
       "<style scoped>\n",
       "    .dataframe tbody tr th:only-of-type {\n",
       "        vertical-align: middle;\n",
       "    }\n",
       "\n",
       "    .dataframe tbody tr th {\n",
       "        vertical-align: top;\n",
       "    }\n",
       "\n",
       "    .dataframe thead th {\n",
       "        text-align: right;\n",
       "    }\n",
       "</style>\n",
       "<table border=\"1\" class=\"dataframe\">\n",
       "  <thead>\n",
       "    <tr style=\"text-align: right;\">\n",
       "      <th></th>\n",
       "      <th>title</th>\n",
       "      <th>company</th>\n",
       "      <th>types</th>\n",
       "      <th>location</th>\n",
       "      <th>snippet</th>\n",
       "    </tr>\n",
       "  </thead>\n",
       "  <tbody>\n",
       "    <tr>\n",
       "      <th>7629</th>\n",
       "      <td>Machine Learning Engineer</td>\n",
       "      <td>Capital One</td>\n",
       "      <td>NaN</td>\n",
       "      <td>Braintree, MA</td>\n",
       "      <td>Contributed to open source ML software.\\n Deliver ML software models and components that solve real-world business problems, while working in collaboration with…</td>\n",
       "    </tr>\n",
       "    <tr>\n",
       "      <th>50568</th>\n",
       "      <td>Software Engineer, Audio Machine Learning</td>\n",
       "      <td>Roblox</td>\n",
       "      <td>NaN</td>\n",
       "      <td>San Mateo, CA</td>\n",
       "      <td>At least a Bachelors in computer science, engineering, mathematics, machine learning, (computational) physics or statistics, or equivalent industry experience.</td>\n",
       "    </tr>\n",
       "    <tr>\n",
       "      <th>51859</th>\n",
       "      <td>Application Programmer Analyst - Informatin Tech Specialist I</td>\n",
       "      <td>Virginia Germanna Community College</td>\n",
       "      <td>Full-time</td>\n",
       "      <td>Locust Grove, VA</td>\n",
       "      <td>Modifies, maintains and upgrades existing website and intranet environment.\\n Oversees college users’ security for VCCS enterprise applications.</td>\n",
       "    </tr>\n",
       "    <tr>\n",
       "      <th>8670</th>\n",
       "      <td>10+ years - Java Full Stack Developer - Secaucus NJ</td>\n",
       "      <td>CBL SOLUTIONS INC</td>\n",
       "      <td>Full-time, Contract</td>\n",
       "      <td>Remote</td>\n",
       "      <td>Build software solutions where the problem is not well defined.\\n Assist with the generation and analysis of business and functional requirements for proposed…</td>\n",
       "    </tr>\n",
       "    <tr>\n",
       "      <th>47952</th>\n",
       "      <td>Software Engineer - TS/SCI with Polygraph Required</td>\n",
       "      <td>Logistics Management Institute</td>\n",
       "      <td>Full-time</td>\n",
       "      <td>Herndon, VA</td>\n",
       "      <td>The candidate shall design innovative software solutions to meet client user requirements with the aim of optimizing operational efficiency while complying with…</td>\n",
       "    </tr>\n",
       "    <tr>\n",
       "      <th>...</th>\n",
       "      <td>...</td>\n",
       "      <td>...</td>\n",
       "      <td>...</td>\n",
       "      <td>...</td>\n",
       "      <td>...</td>\n",
       "    </tr>\n",
       "    <tr>\n",
       "      <th>55560</th>\n",
       "      <td>Back End Engineer- Senior Associate</td>\n",
       "      <td>PRICE WATERHOUSE COOPERS</td>\n",
       "      <td>NaN</td>\n",
       "      <td>San Jose, CA</td>\n",
       "      <td>Our skilled technologists, data scientists, product managers and business strategists are passionate about using technology to accelerate change.</td>\n",
       "    </tr>\n",
       "    <tr>\n",
       "      <th>10089</th>\n",
       "      <td>Technical Lead-II/ SCM .Net</td>\n",
       "      <td>CitiusTech</td>\n",
       "      <td>Full-time</td>\n",
       "      <td>Remote</td>\n",
       "      <td>Title – Technical Lead-II/ SCM .Net.\\n Candidate will have technical experience with .\\n NET programming and relational databases such as MS SQL Server and/or…</td>\n",
       "    </tr>\n",
       "    <tr>\n",
       "      <th>5075</th>\n",
       "      <td>Software Engineer - College Football</td>\n",
       "      <td>Electronic Arts</td>\n",
       "      <td>Full-time</td>\n",
       "      <td>Orlando, FL</td>\n",
       "      <td>We are looking for engineers who enjoy prototyping and planning, adding amazing new features to an existing and beloved game, and improving existing code.</td>\n",
       "    </tr>\n",
       "    <tr>\n",
       "      <th>28070</th>\n",
       "      <td>Software Engineer</td>\n",
       "      <td>JetHead Development</td>\n",
       "      <td>Full-time</td>\n",
       "      <td>Carlsbad, CA</td>\n",
       "      <td>Work with software testers to resolve issues and ensure test plans cover product requirements.\\n Knowledgeable of Linux device drivers and the Linux kernel.</td>\n",
       "    </tr>\n",
       "    <tr>\n",
       "      <th>16627</th>\n",
       "      <td>Senior Backend Engineer - Identity</td>\n",
       "      <td>Collective Health</td>\n",
       "      <td>Full-time</td>\n",
       "      <td>Lehi, UT</td>\n",
       "      <td>Has 5+ years of software engineering work experience.\\n Our company as a whole places a high priority on the overall member experience, including customer support…</td>\n",
       "    </tr>\n",
       "  </tbody>\n",
       "</table>\n",
       "<p>1000 rows × 5 columns</p>\n",
       "</div>"
      ],
      "text/plain": [
       "                                                               title  \\\n",
       "7629                                       Machine Learning Engineer   \n",
       "50568                      Software Engineer, Audio Machine Learning   \n",
       "51859  Application Programmer Analyst - Informatin Tech Specialist I   \n",
       "8670             10+ years - Java Full Stack Developer - Secaucus NJ   \n",
       "47952             Software Engineer - TS/SCI with Polygraph Required   \n",
       "...                                                              ...   \n",
       "55560                            Back End Engineer- Senior Associate   \n",
       "10089                                    Technical Lead-II/ SCM .Net   \n",
       "5075                            Software Engineer - College Football   \n",
       "28070                                              Software Engineer   \n",
       "16627                             Senior Backend Engineer - Identity   \n",
       "\n",
       "                                   company                types  \\\n",
       "7629                           Capital One                  NaN   \n",
       "50568                               Roblox                  NaN   \n",
       "51859  Virginia Germanna Community College            Full-time   \n",
       "8670                     CBL SOLUTIONS INC  Full-time, Contract   \n",
       "47952       Logistics Management Institute            Full-time   \n",
       "...                                    ...                  ...   \n",
       "55560             PRICE WATERHOUSE COOPERS                  NaN   \n",
       "10089                           CitiusTech            Full-time   \n",
       "5075                       Electronic Arts            Full-time   \n",
       "28070                  JetHead Development            Full-time   \n",
       "16627                    Collective Health            Full-time   \n",
       "\n",
       "               location  \\\n",
       "7629      Braintree, MA   \n",
       "50568     San Mateo, CA   \n",
       "51859  Locust Grove, VA   \n",
       "8670             Remote   \n",
       "47952       Herndon, VA   \n",
       "...                 ...   \n",
       "55560      San Jose, CA   \n",
       "10089            Remote   \n",
       "5075        Orlando, FL   \n",
       "28070      Carlsbad, CA   \n",
       "16627          Lehi, UT   \n",
       "\n",
       "                                                                                                                                                                   snippet  \n",
       "7629     Contributed to open source ML software.\\n Deliver ML software models and components that solve real-world business problems, while working in collaboration with…  \n",
       "50568      At least a Bachelors in computer science, engineering, mathematics, machine learning, (computational) physics or statistics, or equivalent industry experience.  \n",
       "51859                     Modifies, maintains and upgrades existing website and intranet environment.\\n Oversees college users’ security for VCCS enterprise applications.  \n",
       "8670       Build software solutions where the problem is not well defined.\\n Assist with the generation and analysis of business and functional requirements for proposed…  \n",
       "47952    The candidate shall design innovative software solutions to meet client user requirements with the aim of optimizing operational efficiency while complying with…  \n",
       "...                                                                                                                                                                    ...  \n",
       "55560                    Our skilled technologists, data scientists, product managers and business strategists are passionate about using technology to accelerate change.  \n",
       "10089      Title – Technical Lead-II/ SCM .Net.\\n Candidate will have technical experience with .\\n NET programming and relational databases such as MS SQL Server and/or…  \n",
       "5075            We are looking for engineers who enjoy prototyping and planning, adding amazing new features to an existing and beloved game, and improving existing code.  \n",
       "28070         Work with software testers to resolve issues and ensure test plans cover product requirements.\\n Knowledgeable of Linux device drivers and the Linux kernel.  \n",
       "16627  Has 5+ years of software engineering work experience.\\n Our company as a whole places a high priority on the overall member experience, including customer support…  \n",
       "\n",
       "[1000 rows x 5 columns]"
      ]
     },
     "execution_count": 100,
     "metadata": {},
     "output_type": "execute_result"
    }
   ],
   "source": [
    "recsys_df = df.sample(1000).copy()\n",
    "recsys_df"
   ]
  },
  {
   "cell_type": "code",
   "execution_count": 102,
   "id": "7e4c7e67-7749-4c06-87c3-8c8212e4feb0",
   "metadata": {},
   "outputs": [],
   "source": [
    "recsys_df['embeddings'] = list(embedding_model.embed(recsys_df['snippet']))"
   ]
  },
  {
   "cell_type": "code",
   "execution_count": 103,
   "id": "fdb65d23-cd5d-4c6c-a3f8-1b767f9acc01",
   "metadata": {},
   "outputs": [],
   "source": [
    "def top_k_df(df, query, top_k=5):\n",
    "    query_embedding = list(embedding_model.query_embed(query))[0]\n",
    "    scores = np.dot(recsys_df['embeddings'].tolist(), query_embedding)\n",
    "    scores_sorted = np.argsort(scores)[::-1]\n",
    "    return recsys_df.iloc[[scores_sorted[i] for i in range(top_k)]]"
   ]
  },
  {
   "cell_type": "code",
   "execution_count": 111,
   "id": "1ffc516c-63ff-4a70-b9d6-32fbe60b63a9",
   "metadata": {},
   "outputs": [
    {
     "data": {
      "text/html": [
       "<div>\n",
       "<style scoped>\n",
       "    .dataframe tbody tr th:only-of-type {\n",
       "        vertical-align: middle;\n",
       "    }\n",
       "\n",
       "    .dataframe tbody tr th {\n",
       "        vertical-align: top;\n",
       "    }\n",
       "\n",
       "    .dataframe thead th {\n",
       "        text-align: right;\n",
       "    }\n",
       "</style>\n",
       "<table border=\"1\" class=\"dataframe\">\n",
       "  <thead>\n",
       "    <tr style=\"text-align: right;\">\n",
       "      <th></th>\n",
       "      <th>title</th>\n",
       "      <th>company</th>\n",
       "      <th>types</th>\n",
       "      <th>location</th>\n",
       "      <th>snippet</th>\n",
       "    </tr>\n",
       "  </thead>\n",
       "  <tbody>\n",
       "    <tr>\n",
       "      <th>10253</th>\n",
       "      <td>Software Engineer</td>\n",
       "      <td>MarketSpark, Inc.</td>\n",
       "      <td>Full-time</td>\n",
       "      <td>San Diego, CA</td>\n",
       "      <td>Good working knowledge of software design patterns.\\n Jenkins or other CICD experience.\\n Solid understanding of networking/distributed computing environment…</td>\n",
       "    </tr>\n",
       "    <tr>\n",
       "      <th>48669</th>\n",
       "      <td>Senior Software Engineer - Remote Eligible</td>\n",
       "      <td>Relias LLC</td>\n",
       "      <td>NaN</td>\n",
       "      <td>Morrisville, NC</td>\n",
       "      <td>Desire to mentor associate and mid-level software engineers.\\n Experience releasing software / knowledge of the SDLC process.\\n 3+ years of SQL Server.</td>\n",
       "    </tr>\n",
       "    <tr>\n",
       "      <th>42366</th>\n",
       "      <td>Sr. C#.NET Developer</td>\n",
       "      <td>Crum &amp; Forster</td>\n",
       "      <td>Full-time</td>\n",
       "      <td>Morristown, NJ</td>\n",
       "      <td>Good understanding of the SDLC process (how software is built!).\\n This position is for development &amp;amp; maintenance initiatives on internal and external systems,…</td>\n",
       "    </tr>\n",
       "    <tr>\n",
       "      <th>41491</th>\n",
       "      <td>Senior Software Developer (Backend)</td>\n",
       "      <td>Facilis Group</td>\n",
       "      <td>Full-time</td>\n",
       "      <td>Brentwood, MO</td>\n",
       "      <td>Contribute to software architecture discussion and decision making.\\n Experience working with various software and platform architectures.</td>\n",
       "    </tr>\n",
       "    <tr>\n",
       "      <th>14780</th>\n",
       "      <td>Principal Software Engineer</td>\n",
       "      <td>Microsoft</td>\n",
       "      <td>Full-time</td>\n",
       "      <td>Redmond, WA</td>\n",
       "      <td>Good understanding of system software including OS and networking.\\n 7+ years of industrial experiences in software development preferably in real-time media…</td>\n",
       "    </tr>\n",
       "  </tbody>\n",
       "</table>\n",
       "</div>"
      ],
      "text/plain": [
       "                                            title            company  \\\n",
       "10253                           Software Engineer  MarketSpark, Inc.   \n",
       "48669  Senior Software Engineer - Remote Eligible         Relias LLC   \n",
       "42366                        Sr. C#.NET Developer     Crum & Forster   \n",
       "41491         Senior Software Developer (Backend)      Facilis Group   \n",
       "14780                 Principal Software Engineer          Microsoft   \n",
       "\n",
       "           types         location  \\\n",
       "10253  Full-time    San Diego, CA   \n",
       "48669        NaN  Morrisville, NC   \n",
       "42366  Full-time   Morristown, NJ   \n",
       "41491  Full-time    Brentwood, MO   \n",
       "14780  Full-time      Redmond, WA   \n",
       "\n",
       "                                                                                                                                                                    snippet  \n",
       "10253        Good working knowledge of software design patterns.\\n Jenkins or other CICD experience.\\n Solid understanding of networking/distributed computing environment…  \n",
       "48669               Desire to mentor associate and mid-level software engineers.\\n Experience releasing software / knowledge of the SDLC process.\\n 3+ years of SQL Server.  \n",
       "42366  Good understanding of the SDLC process (how software is built!).\\n This position is for development &amp; maintenance initiatives on internal and external systems,…  \n",
       "41491                            Contribute to software architecture discussion and decision making.\\n Experience working with various software and platform architectures.  \n",
       "14780        Good understanding of system software including OS and networking.\\n 7+ years of industrial experiences in software development preferably in real-time media…  "
      ]
     },
     "execution_count": 111,
     "metadata": {},
     "output_type": "execute_result"
    }
   ],
   "source": [
    "top_k_df(recsys_df, 'I do distributed system, and I am a junior software').drop(columns='embeddings')"
   ]
  }
 ],
 "metadata": {
  "kernelspec": {
   "display_name": "Python 3 (ipykernel)",
   "language": "python",
   "name": "python3"
  },
  "language_info": {
   "codemirror_mode": {
    "name": "ipython",
    "version": 3
   },
   "file_extension": ".py",
   "mimetype": "text/x-python",
   "name": "python",
   "nbconvert_exporter": "python",
   "pygments_lexer": "ipython3",
   "version": "3.11.6"
  },
  "widgets": {
   "application/vnd.jupyter.widget-state+json": {
    "state": {},
    "version_major": 2,
    "version_minor": 0
   }
  }
 },
 "nbformat": 4,
 "nbformat_minor": 5
}
