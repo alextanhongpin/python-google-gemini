{
 "cells": [
  {
   "cell_type": "markdown",
   "id": "fa114af3-0b19-45d0-8f07-a1830a213fe7",
   "metadata": {},
   "source": [
    "# Recommender using Embeddings\n",
    "\n",
    "Data taken from https://www.kaggle.com/datasets/mexwell/us-software-engineer-jobs"
   ]
  },
  {
   "cell_type": "code",
   "execution_count": 1,
   "id": "17339c02-6623-4597-be31-fdf6d66a9105",
   "metadata": {},
   "outputs": [
    {
     "data": {
      "text/plain": [
       "(58433, 29)"
      ]
     },
     "execution_count": 1,
     "metadata": {},
     "output_type": "execute_result"
    }
   ],
   "source": [
    "import pandas as pd\n",
    "from pathlib import Path\n",
    "file = 'us-software-engineer-jobs-zenrows.csv'\n",
    "\n",
    "df = pd.read_csv(Path('data',file))\n",
    "df.shape"
   ]
  },
  {
   "cell_type": "code",
   "execution_count": 2,
   "id": "ee0712e1-ce56-4ba7-aeba-0ba2f9511db4",
   "metadata": {},
   "outputs": [
    {
     "data": {
      "text/html": [
       "<div>\n",
       "<style scoped>\n",
       "    .dataframe tbody tr th:only-of-type {\n",
       "        vertical-align: middle;\n",
       "    }\n",
       "\n",
       "    .dataframe tbody tr th {\n",
       "        vertical-align: top;\n",
       "    }\n",
       "\n",
       "    .dataframe thead th {\n",
       "        text-align: right;\n",
       "    }\n",
       "</style>\n",
       "<table border=\"1\" class=\"dataframe\">\n",
       "  <thead>\n",
       "    <tr style=\"text-align: right;\">\n",
       "      <th></th>\n",
       "      <th>rating</th>\n",
       "      <th>review_count</th>\n",
       "      <th>ad_id</th>\n",
       "      <th>source_id</th>\n",
       "      <th>job_location_postal</th>\n",
       "    </tr>\n",
       "  </thead>\n",
       "  <tbody>\n",
       "    <tr>\n",
       "      <th>count</th>\n",
       "      <td>58433.000000</td>\n",
       "      <td>58433.000000</td>\n",
       "      <td>2.362600e+04</td>\n",
       "      <td>5.843300e+04</td>\n",
       "      <td>26121.000000</td>\n",
       "    </tr>\n",
       "    <tr>\n",
       "      <th>mean</th>\n",
       "      <td>2.565040</td>\n",
       "      <td>1604.469050</td>\n",
       "      <td>3.376991e+08</td>\n",
       "      <td>6.605754e+06</td>\n",
       "      <td>52579.873627</td>\n",
       "    </tr>\n",
       "    <tr>\n",
       "      <th>std</th>\n",
       "      <td>1.832927</td>\n",
       "      <td>5894.934474</td>\n",
       "      <td>8.307966e+07</td>\n",
       "      <td>7.333885e+06</td>\n",
       "      <td>33371.519030</td>\n",
       "    </tr>\n",
       "    <tr>\n",
       "      <th>min</th>\n",
       "      <td>0.000000</td>\n",
       "      <td>0.000000</td>\n",
       "      <td>9.826900e+04</td>\n",
       "      <td>1.700000e+01</td>\n",
       "      <td>603.000000</td>\n",
       "    </tr>\n",
       "    <tr>\n",
       "      <th>25%</th>\n",
       "      <td>0.000000</td>\n",
       "      <td>0.000000</td>\n",
       "      <td>3.616971e+08</td>\n",
       "      <td>1.571000e+04</td>\n",
       "      <td>20877.000000</td>\n",
       "    </tr>\n",
       "    <tr>\n",
       "      <th>50%</th>\n",
       "      <td>3.500000</td>\n",
       "      <td>14.000000</td>\n",
       "      <td>3.694296e+08</td>\n",
       "      <td>3.370807e+06</td>\n",
       "      <td>53122.000000</td>\n",
       "    </tr>\n",
       "    <tr>\n",
       "      <th>75%</th>\n",
       "      <td>4.000000</td>\n",
       "      <td>624.000000</td>\n",
       "      <td>3.716887e+08</td>\n",
       "      <td>1.307450e+07</td>\n",
       "      <td>87124.000000</td>\n",
       "    </tr>\n",
       "    <tr>\n",
       "      <th>max</th>\n",
       "      <td>5.000000</td>\n",
       "      <td>223345.000000</td>\n",
       "      <td>3.725696e+08</td>\n",
       "      <td>2.077308e+07</td>\n",
       "      <td>99901.000000</td>\n",
       "    </tr>\n",
       "  </tbody>\n",
       "</table>\n",
       "</div>"
      ],
      "text/plain": [
       "             rating   review_count         ad_id     source_id  \\\n",
       "count  58433.000000   58433.000000  2.362600e+04  5.843300e+04   \n",
       "mean       2.565040    1604.469050  3.376991e+08  6.605754e+06   \n",
       "std        1.832927    5894.934474  8.307966e+07  7.333885e+06   \n",
       "min        0.000000       0.000000  9.826900e+04  1.700000e+01   \n",
       "25%        0.000000       0.000000  3.616971e+08  1.571000e+04   \n",
       "50%        3.500000      14.000000  3.694296e+08  3.370807e+06   \n",
       "75%        4.000000     624.000000  3.716887e+08  1.307450e+07   \n",
       "max        5.000000  223345.000000  3.725696e+08  2.077308e+07   \n",
       "\n",
       "       job_location_postal  \n",
       "count         26121.000000  \n",
       "mean          52579.873627  \n",
       "std           33371.519030  \n",
       "min             603.000000  \n",
       "25%           20877.000000  \n",
       "50%           53122.000000  \n",
       "75%           87124.000000  \n",
       "max           99901.000000  "
      ]
     },
     "execution_count": 2,
     "metadata": {},
     "output_type": "execute_result"
    }
   ],
   "source": [
    "df.describe()"
   ]
  },
  {
   "cell_type": "code",
   "execution_count": 3,
   "id": "6aaffff3-6360-43d7-9b2e-dbaf5fe9785a",
   "metadata": {},
   "outputs": [
    {
     "data": {
      "text/plain": [
       "(58433, 5)"
      ]
     },
     "execution_count": 3,
     "metadata": {},
     "output_type": "execute_result"
    }
   ],
   "source": [
    "columns = ['title', 'company', 'types', 'location', 'snippet']\n",
    "df = df[columns]\n",
    "df.shape"
   ]
  },
  {
   "cell_type": "code",
   "execution_count": 4,
   "id": "aeda71b2-b815-4d30-9f8c-52cb21055626",
   "metadata": {},
   "outputs": [
    {
     "name": "stderr",
     "output_type": "stream",
     "text": [
      "/var/folders/7m/74_ct3hx33d878n626w1wxyc0000gn/T/ipykernel_32415/96582268.py:1: SettingWithCopyWarning: \n",
      "A value is trying to be set on a copy of a slice from a DataFrame\n",
      "\n",
      "See the caveats in the documentation: https://pandas.pydata.org/pandas-docs/stable/user_guide/indexing.html#returning-a-view-versus-a-copy\n",
      "  df[df['snippet'].isnull()].dropna(inplace=True, axis='rows')\n"
     ]
    }
   ],
   "source": [
    "df[df['snippet'].isnull()].dropna(inplace=True, axis='rows')"
   ]
  },
  {
   "cell_type": "code",
   "execution_count": 5,
   "id": "52e2b44f-f716-4f9d-9cb7-2daa1d93b03a",
   "metadata": {},
   "outputs": [
    {
     "data": {
      "text/plain": [
       "Index([928, 2796, 24639, 36774, 38167, 39357, 44512, 57079], dtype='int64')"
      ]
     },
     "execution_count": 5,
     "metadata": {},
     "output_type": "execute_result"
    }
   ],
   "source": [
    "# Filter out rows \n",
    "mask = df[['title', 'snippet']].isnull().any(axis='columns')\n",
    "df[mask].index"
   ]
  },
  {
   "cell_type": "code",
   "execution_count": 6,
   "id": "53c6ea94-f884-4de6-9790-bd2b61bc48c4",
   "metadata": {},
   "outputs": [
    {
     "data": {
      "text/plain": [
       "(58425, 5)"
      ]
     },
     "execution_count": 6,
     "metadata": {},
     "output_type": "execute_result"
    }
   ],
   "source": [
    "df.drop(index=df[mask].index, inplace=True)\n",
    "df.shape"
   ]
  },
  {
   "cell_type": "code",
   "execution_count": 7,
   "id": "a701f41a-9759-41bf-851f-32c81960f6e3",
   "metadata": {},
   "outputs": [
    {
     "data": {
      "text/html": [
       "<div>\n",
       "<style scoped>\n",
       "    .dataframe tbody tr th:only-of-type {\n",
       "        vertical-align: middle;\n",
       "    }\n",
       "\n",
       "    .dataframe tbody tr th {\n",
       "        vertical-align: top;\n",
       "    }\n",
       "\n",
       "    .dataframe thead th {\n",
       "        text-align: right;\n",
       "    }\n",
       "</style>\n",
       "<table border=\"1\" class=\"dataframe\">\n",
       "  <thead>\n",
       "    <tr style=\"text-align: right;\">\n",
       "      <th></th>\n",
       "      <th>title</th>\n",
       "      <th>company</th>\n",
       "      <th>types</th>\n",
       "      <th>location</th>\n",
       "      <th>snippet</th>\n",
       "    </tr>\n",
       "  </thead>\n",
       "  <tbody>\n",
       "    <tr>\n",
       "      <th>40628</th>\n",
       "      <td>Software Engineer - Crypto Products</td>\n",
       "      <td>TradeStation</td>\n",
       "      <td>NaN</td>\n",
       "      <td>Remote</td>\n",
       "      <td>Work and collaborate with DevOps engineers to ...</td>\n",
       "    </tr>\n",
       "    <tr>\n",
       "      <th>56524</th>\n",
       "      <td>Principal Software Engineer</td>\n",
       "      <td>Liberty Mutual Insurance</td>\n",
       "      <td>NaN</td>\n",
       "      <td>Remote</td>\n",
       "      <td>7+ years of software engineering experience.\\n...</td>\n",
       "    </tr>\n",
       "    <tr>\n",
       "      <th>32993</th>\n",
       "      <td>C# Senior Software Developer (Contractor) - Fr...</td>\n",
       "      <td>DataAxxis</td>\n",
       "      <td>Full-time, Contract</td>\n",
       "      <td>New York, NY</td>\n",
       "      <td>The Front Office Senior Software Developer wil...</td>\n",
       "    </tr>\n",
       "    <tr>\n",
       "      <th>3546</th>\n",
       "      <td>Site Reliability Engineer</td>\n",
       "      <td>SHIELD AI</td>\n",
       "      <td>NaN</td>\n",
       "      <td>San Diego, CA</td>\n",
       "      <td>Collaborate with a diverse group of supportive...</td>\n",
       "    </tr>\n",
       "    <tr>\n",
       "      <th>37609</th>\n",
       "      <td>c# Engineer</td>\n",
       "      <td>Optimum Technologies</td>\n",
       "      <td>Full-time</td>\n",
       "      <td>San Francisco Bay Area, CA</td>\n",
       "      <td>Versed in software engineering best practices ...</td>\n",
       "    </tr>\n",
       "  </tbody>\n",
       "</table>\n",
       "</div>"
      ],
      "text/plain": [
       "                                                   title  \\\n",
       "40628                Software Engineer - Crypto Products   \n",
       "56524                        Principal Software Engineer   \n",
       "32993  C# Senior Software Developer (Contractor) - Fr...   \n",
       "3546                           Site Reliability Engineer   \n",
       "37609                                        c# Engineer   \n",
       "\n",
       "                        company                types  \\\n",
       "40628              TradeStation                  NaN   \n",
       "56524  Liberty Mutual Insurance                  NaN   \n",
       "32993                 DataAxxis  Full-time, Contract   \n",
       "3546                  SHIELD AI                  NaN   \n",
       "37609      Optimum Technologies            Full-time   \n",
       "\n",
       "                         location  \\\n",
       "40628                      Remote   \n",
       "56524                      Remote   \n",
       "32993                New York, NY   \n",
       "3546                San Diego, CA   \n",
       "37609  San Francisco Bay Area, CA   \n",
       "\n",
       "                                                 snippet  \n",
       "40628  Work and collaborate with DevOps engineers to ...  \n",
       "56524  7+ years of software engineering experience.\\n...  \n",
       "32993  The Front Office Senior Software Developer wil...  \n",
       "3546   Collaborate with a diverse group of supportive...  \n",
       "37609  Versed in software engineering best practices ...  "
      ]
     },
     "execution_count": 7,
     "metadata": {},
     "output_type": "execute_result"
    }
   ],
   "source": [
    "df.sample(5)"
   ]
  },
  {
   "cell_type": "code",
   "execution_count": 22,
   "id": "a285daff-49db-4d33-9fd4-7c6ed3f7393f",
   "metadata": {},
   "outputs": [],
   "source": [
    "pd.set_option('display.max_colwidth', None)\n",
    "\n",
    "documents = list(df['snippet'][:5])"
   ]
  },
  {
   "cell_type": "code",
   "execution_count": 10,
   "id": "13439f84-8bbd-4ba6-816d-deb8ffb91ea0",
   "metadata": {},
   "outputs": [
    {
     "data": {
      "text/plain": [
       "[{'model': 'BAAI/bge-small-en',\n",
       "  'dim': 384,\n",
       "  'description': 'Fast English model',\n",
       "  'size_in_GB': 0.2},\n",
       " {'model': 'BAAI/bge-small-en-v1.5',\n",
       "  'dim': 384,\n",
       "  'description': 'Fast and Default English model',\n",
       "  'size_in_GB': 0.13},\n",
       " {'model': 'BAAI/bge-small-zh-v1.5',\n",
       "  'dim': 512,\n",
       "  'description': 'Fast and recommended Chinese model',\n",
       "  'size_in_GB': 0.1},\n",
       " {'model': 'BAAI/bge-base-en',\n",
       "  'dim': 768,\n",
       "  'description': 'Base English model',\n",
       "  'size_in_GB': 0.5},\n",
       " {'model': 'BAAI/bge-base-en-v1.5',\n",
       "  'dim': 768,\n",
       "  'description': 'Base English model, v1.5',\n",
       "  'size_in_GB': 0.44},\n",
       " {'model': 'sentence-transformers/all-MiniLM-L6-v2',\n",
       "  'dim': 384,\n",
       "  'description': 'Sentence Transformer model, MiniLM-L6-v2',\n",
       "  'size_in_GB': 0.09},\n",
       " {'model': 'intfloat/multilingual-e5-large',\n",
       "  'dim': 1024,\n",
       "  'description': 'Multilingual model, e5-large. Recommend using this model for non-English languages',\n",
       "  'size_in_GB': 2.24}]"
      ]
     },
     "execution_count": 10,
     "metadata": {},
     "output_type": "execute_result"
    }
   ],
   "source": [
    "from fastembed.embedding import FlagEmbedding as Embedding\n",
    "import numpy as np\n",
    "\n",
    "Embedding.list_supported_models()"
   ]
  },
  {
   "cell_type": "code",
   "execution_count": 23,
   "id": "8358de0a-d28f-497c-a135-343358ea1795",
   "metadata": {},
   "outputs": [
    {
     "name": "stderr",
     "output_type": "stream",
     "text": [
      "100%|████████████████████████████████████████████████████████████████████████████████████████████████████████████| 76.7M/76.7M [00:06<00:00, 11.6MiB/s]\n"
     ]
    }
   ],
   "source": [
    "embedding_model = Embedding(model_name=\"BAAI/bge-small-en-v1.5\", max_length=512) \n",
    "embeddings: [np.ndarray] = list(embedding_model.embed(documents)) # Note the list() call - this is a generator "
   ]
  },
  {
   "cell_type": "code",
   "execution_count": 35,
   "id": "d5008728-fc18-4672-af86-0cf98ca5673a",
   "metadata": {},
   "outputs": [],
   "source": [
    "def print_top_k(query, embeddings, documents, top_k=5):\n",
    "    query_embedding = list(embedding_model.query_embed(query))[0]\n",
    "    \n",
    "    # Calculate cosine similarity.\n",
    "    scores = np.dot(embeddings, query_embedding)\n",
    "    \n",
    "    sorted_scores = np.argsort(scores)[::-1]\n",
    "    for i in range(top_k):\n",
    "        print(f\"Rank {i+1}: {documents[sorted_scores[i]]}\")"
   ]
  },
  {
   "cell_type": "code",
   "execution_count": 36,
   "id": "bc7a4e1c-3abc-47b8-a9cb-95cf2e726e36",
   "metadata": {},
   "outputs": [
    {
     "name": "stdout",
     "output_type": "stream",
     "text": [
      "Rank 1: This person will be a senior member of the team and will be responsible for architecting, building complex features and providing technical guidance to other…\n",
      "Rank 2: Proficiency in Agile software development principles is required.\n",
      " Advanced knowledge of industry software development methodologies, standards and architecture…\n",
      "Rank 3: The ideal candidate will have a skill for tough puzzles, a talent for communicating complex ideas simply, and a drive to meet high expectations with great…\n",
      "Rank 4: Reports to* DIRECTOR OF MARKETING.\n",
      " PHP - Equivalent of 3 years education and/or experience.\n",
      " Java script - Equivalent of 3 years education and/or experience.\n",
      "Rank 5: Throughout the day, you will collaborate with your teammates and interact with our clients.\n",
      " Benefits! Shockoe offers a comprehensive and competitive benefits…\n"
     ]
    }
   ],
   "source": [
    "print_top_k(\"I am a backend engineer looking for golang job\", embeddings, documents)"
   ]
  },
  {
   "cell_type": "code",
   "execution_count": 37,
   "id": "e4b3dd2f-4e86-47cc-bebd-89a3da25997f",
   "metadata": {},
   "outputs": [
    {
     "name": "stdout",
     "output_type": "stream",
     "text": [
      "Rank 1: Reports to* DIRECTOR OF MARKETING.\n",
      " PHP - Equivalent of 3 years education and/or experience.\n",
      " Java script - Equivalent of 3 years education and/or experience.\n",
      "Rank 2: This person will be a senior member of the team and will be responsible for architecting, building complex features and providing technical guidance to other…\n",
      "Rank 3: The ideal candidate will have a skill for tough puzzles, a talent for communicating complex ideas simply, and a drive to meet high expectations with great…\n",
      "Rank 4: Throughout the day, you will collaborate with your teammates and interact with our clients.\n",
      " Benefits! Shockoe offers a comprehensive and competitive benefits…\n",
      "Rank 5: Proficiency in Agile software development principles is required.\n",
      " Advanced knowledge of industry software development methodologies, standards and architecture…\n"
     ]
    }
   ],
   "source": [
    "print_top_k(\"I am a backend engineer looking for php job\", embeddings, documents)"
   ]
  },
  {
   "cell_type": "code",
   "execution_count": null,
   "id": "6c3da383-146c-4d79-8100-4cd38c28d8db",
   "metadata": {},
   "outputs": [],
   "source": []
  }
 ],
 "metadata": {
  "kernelspec": {
   "display_name": "Python 3 (ipykernel)",
   "language": "python",
   "name": "python3"
  },
  "language_info": {
   "codemirror_mode": {
    "name": "ipython",
    "version": 3
   },
   "file_extension": ".py",
   "mimetype": "text/x-python",
   "name": "python",
   "nbconvert_exporter": "python",
   "pygments_lexer": "ipython3",
   "version": "3.11.6"
  },
  "widgets": {
   "application/vnd.jupyter.widget-state+json": {
    "state": {},
    "version_major": 2,
    "version_minor": 0
   }
  }
 },
 "nbformat": 4,
 "nbformat_minor": 5
}
